{
  "nbformat": 4,
  "nbformat_minor": 0,
  "metadata": {
    "colab": {
      "provenance": [],
      "toc_visible": true
    },
    "kernelspec": {
      "name": "python3",
      "display_name": "Python 3"
    },
    "language_info": {
      "name": "python"
    }
  },
  "cells": [
    {
      "cell_type": "code",
      "execution_count": 4,
      "metadata": {
        "id": "c3q1Arzm2ES_"
      },
      "outputs": [],
      "source": [
        "import numpy as np\n",
        "import pandas as pd\n",
        "import matplotlib.pyplot as plt\n",
        "import seaborn as sns\n",
        "from scipy import stats"
      ]
    },
    {
      "cell_type": "code",
      "source": [
        "# Data loading\n",
        "customer_data = pd.read_csv('/content/sample_data/QVI_purchase_behaviour.csv')\n",
        "transaction_data = pd.read_excel('/content/sample_data/QVI_transaction_data.xlsx')"
      ],
      "metadata": {
        "id": "2xSoVFRrIbkR"
      },
      "execution_count": 3,
      "outputs": []
    },
    {
      "cell_type": "markdown",
      "source": [
        "# Exploratory Data Analysis (EDA)"
      ],
      "metadata": {
        "id": "dzUefmrQ9M0h"
      }
    },
    {
      "cell_type": "code",
      "source": [
        "# Initial analysis of transaction_data\n",
        "print(transaction_data.info())\n",
        "print(transaction_data.head())"
      ],
      "metadata": {
        "colab": {
          "base_uri": "https://localhost:8080/"
        },
        "id": "eCk_OFn4JMUE",
        "outputId": "a02114b0-5f03-4b5e-cb01-95ed6516eeee"
      },
      "execution_count": 5,
      "outputs": [
        {
          "output_type": "stream",
          "name": "stdout",
          "text": [
            "<class 'pandas.core.frame.DataFrame'>\n",
            "RangeIndex: 264836 entries, 0 to 264835\n",
            "Data columns (total 8 columns):\n",
            " #   Column          Non-Null Count   Dtype  \n",
            "---  ------          --------------   -----  \n",
            " 0   DATE            264836 non-null  int64  \n",
            " 1   STORE_NBR       264836 non-null  int64  \n",
            " 2   LYLTY_CARD_NBR  264836 non-null  int64  \n",
            " 3   TXN_ID          264836 non-null  int64  \n",
            " 4   PROD_NBR        264836 non-null  int64  \n",
            " 5   PROD_NAME       264836 non-null  object \n",
            " 6   PROD_QTY        264836 non-null  int64  \n",
            " 7   TOT_SALES       264836 non-null  float64\n",
            "dtypes: float64(1), int64(6), object(1)\n",
            "memory usage: 16.2+ MB\n",
            "None\n",
            "    DATE  STORE_NBR  LYLTY_CARD_NBR  TXN_ID  PROD_NBR  \\\n",
            "0  43390          1            1000       1         5   \n",
            "1  43599          1            1307     348        66   \n",
            "2  43605          1            1343     383        61   \n",
            "3  43329          2            2373     974        69   \n",
            "4  43330          2            2426    1038       108   \n",
            "\n",
            "                                  PROD_NAME  PROD_QTY  TOT_SALES  \n",
            "0    Natural Chip        Compny SeaSalt175g         2        6.0  \n",
            "1                  CCs Nacho Cheese    175g         3        6.3  \n",
            "2    Smiths Crinkle Cut  Chips Chicken 170g         2        2.9  \n",
            "3    Smiths Chip Thinly  S/Cream&Onion 175g         5       15.0  \n",
            "4  Kettle Tortilla ChpsHny&Jlpno Chili 150g         3       13.8  \n"
          ]
        }
      ]
    },
    {
      "cell_type": "code",
      "source": [
        "# Initial analysis of customer_data\n",
        "print(customer_data.info())\n",
        "print(customer_data.head())"
      ],
      "metadata": {
        "colab": {
          "base_uri": "https://localhost:8080/"
        },
        "id": "sykI7H3dJkna",
        "outputId": "95bdc748-bc4a-4419-85e2-e2328e4d4138"
      },
      "execution_count": 6,
      "outputs": [
        {
          "output_type": "stream",
          "name": "stdout",
          "text": [
            "<class 'pandas.core.frame.DataFrame'>\n",
            "RangeIndex: 72637 entries, 0 to 72636\n",
            "Data columns (total 3 columns):\n",
            " #   Column            Non-Null Count  Dtype \n",
            "---  ------            --------------  ----- \n",
            " 0   LYLTY_CARD_NBR    72637 non-null  int64 \n",
            " 1   LIFESTAGE         72637 non-null  object\n",
            " 2   PREMIUM_CUSTOMER  72637 non-null  object\n",
            "dtypes: int64(1), object(2)\n",
            "memory usage: 1.7+ MB\n",
            "None\n",
            "   LYLTY_CARD_NBR               LIFESTAGE PREMIUM_CUSTOMER\n",
            "0            1000   YOUNG SINGLES/COUPLES          Premium\n",
            "1            1002   YOUNG SINGLES/COUPLES       Mainstream\n",
            "2            1003          YOUNG FAMILIES           Budget\n",
            "3            1004   OLDER SINGLES/COUPLES       Mainstream\n",
            "4            1005  MIDAGE SINGLES/COUPLES       Mainstream\n"
          ]
        }
      ]
    },
    {
      "cell_type": "markdown",
      "source": [
        "## Preprocessing"
      ],
      "metadata": {
        "id": "449hlPWTKWDv"
      }
    },
    {
      "cell_type": "markdown",
      "source": [
        "## Transaction_data"
      ],
      "metadata": {
        "id": "qCP_oMP9GX6G"
      }
    },
    {
      "cell_type": "code",
      "source": [
        "# Conversion of date\n",
        "transaction_data['DATE'] = pd.to_datetime(transaction_data['DATE'], origin='1899-12-30', unit='D')"
      ],
      "metadata": {
        "id": "ySuBySiJKHMT"
      },
      "execution_count": 7,
      "outputs": []
    },
    {
      "cell_type": "code",
      "source": [
        "transaction_data.dtypes\n"
      ],
      "metadata": {
        "colab": {
          "base_uri": "https://localhost:8080/",
          "height": 335
        },
        "id": "SsDdVAzp9nBe",
        "outputId": "42b4b568-1b5e-40ce-ed1a-07c603036bab"
      },
      "execution_count": 8,
      "outputs": [
        {
          "output_type": "execute_result",
          "data": {
            "text/plain": [
              "DATE              datetime64[ns]\n",
              "STORE_NBR                  int64\n",
              "LYLTY_CARD_NBR             int64\n",
              "TXN_ID                     int64\n",
              "PROD_NBR                   int64\n",
              "PROD_NAME                 object\n",
              "PROD_QTY                   int64\n",
              "TOT_SALES                float64\n",
              "dtype: object"
            ],
            "text/html": [
              "<div>\n",
              "<style scoped>\n",
              "    .dataframe tbody tr th:only-of-type {\n",
              "        vertical-align: middle;\n",
              "    }\n",
              "\n",
              "    .dataframe tbody tr th {\n",
              "        vertical-align: top;\n",
              "    }\n",
              "\n",
              "    .dataframe thead th {\n",
              "        text-align: right;\n",
              "    }\n",
              "</style>\n",
              "<table border=\"1\" class=\"dataframe\">\n",
              "  <thead>\n",
              "    <tr style=\"text-align: right;\">\n",
              "      <th></th>\n",
              "      <th>0</th>\n",
              "    </tr>\n",
              "  </thead>\n",
              "  <tbody>\n",
              "    <tr>\n",
              "      <th>DATE</th>\n",
              "      <td>datetime64[ns]</td>\n",
              "    </tr>\n",
              "    <tr>\n",
              "      <th>STORE_NBR</th>\n",
              "      <td>int64</td>\n",
              "    </tr>\n",
              "    <tr>\n",
              "      <th>LYLTY_CARD_NBR</th>\n",
              "      <td>int64</td>\n",
              "    </tr>\n",
              "    <tr>\n",
              "      <th>TXN_ID</th>\n",
              "      <td>int64</td>\n",
              "    </tr>\n",
              "    <tr>\n",
              "      <th>PROD_NBR</th>\n",
              "      <td>int64</td>\n",
              "    </tr>\n",
              "    <tr>\n",
              "      <th>PROD_NAME</th>\n",
              "      <td>object</td>\n",
              "    </tr>\n",
              "    <tr>\n",
              "      <th>PROD_QTY</th>\n",
              "      <td>int64</td>\n",
              "    </tr>\n",
              "    <tr>\n",
              "      <th>TOT_SALES</th>\n",
              "      <td>float64</td>\n",
              "    </tr>\n",
              "  </tbody>\n",
              "</table>\n",
              "</div><br><label><b>dtype:</b> object</label>"
            ]
          },
          "metadata": {},
          "execution_count": 8
        }
      ]
    },
    {
      "cell_type": "code",
      "source": [
        "# Product name analysis\n",
        "transaction_data['PROD_NAME'] = transaction_data['PROD_NAME'].astype(str)\n",
        "words = transaction_data['PROD_NAME'].str.split(expand=True).stack()\n",
        "words = words[~words.str.contains(r'\\d|&')]\n",
        "word_counts = words.value_counts()\n",
        "print(word_counts.head(20))"
      ],
      "metadata": {
        "colab": {
          "base_uri": "https://localhost:8080/"
        },
        "id": "xBNhov6mKHXR",
        "outputId": "3c09a7c1-d8d4-44ce-c1ba-0b582bd70f0e"
      },
      "execution_count": 9,
      "outputs": [
        {
          "output_type": "stream",
          "name": "stdout",
          "text": [
            "Chips       49770\n",
            "Kettle      41288\n",
            "Smiths      28860\n",
            "Salt        27976\n",
            "Cheese      27890\n",
            "Pringles    25102\n",
            "Doritos     24962\n",
            "Crinkle     23960\n",
            "Corn        22063\n",
            "Original    21560\n",
            "Cut         20754\n",
            "Chip        18645\n",
            "Salsa       18094\n",
            "Chicken     15407\n",
            "Sea         14145\n",
            "Thins       14075\n",
            "Sour        13882\n",
            "Crisps      12607\n",
            "Vinegar     12402\n",
            "Chilli      12389\n",
            "Name: count, dtype: int64\n"
          ]
        }
      ]
    },
    {
      "cell_type": "code",
      "source": [
        "# Filtering Salsa\n",
        "transaction_data = transaction_data[~transaction_data['PROD_NAME'].str.contains(\"salsa\", case=False)]\n",
        "transaction_data"
      ],
      "metadata": {
        "colab": {
          "base_uri": "https://localhost:8080/",
          "height": 424
        },
        "id": "n9Dr_QfUKHZ6",
        "outputId": "54a84227-3418-4d6f-8f57-af8395eaa0a9"
      },
      "execution_count": 10,
      "outputs": [
        {
          "output_type": "execute_result",
          "data": {
            "text/plain": [
              "             DATE  STORE_NBR  LYLTY_CARD_NBR  TXN_ID  PROD_NBR  \\\n",
              "0      2018-10-17          1            1000       1         5   \n",
              "1      2019-05-14          1            1307     348        66   \n",
              "2      2019-05-20          1            1343     383        61   \n",
              "3      2018-08-17          2            2373     974        69   \n",
              "4      2018-08-18          2            2426    1038       108   \n",
              "...           ...        ...             ...     ...       ...   \n",
              "264831 2019-03-09        272          272319  270088        89   \n",
              "264832 2018-08-13        272          272358  270154        74   \n",
              "264833 2018-11-06        272          272379  270187        51   \n",
              "264834 2018-12-27        272          272379  270188        42   \n",
              "264835 2018-09-22        272          272380  270189        74   \n",
              "\n",
              "                                       PROD_NAME  PROD_QTY  TOT_SALES  \n",
              "0         Natural Chip        Compny SeaSalt175g         2        6.0  \n",
              "1                       CCs Nacho Cheese    175g         3        6.3  \n",
              "2         Smiths Crinkle Cut  Chips Chicken 170g         2        2.9  \n",
              "3         Smiths Chip Thinly  S/Cream&Onion 175g         5       15.0  \n",
              "4       Kettle Tortilla ChpsHny&Jlpno Chili 150g         3       13.8  \n",
              "...                                          ...       ...        ...  \n",
              "264831   Kettle Sweet Chilli And Sour Cream 175g         2       10.8  \n",
              "264832             Tostitos Splash Of  Lime 175g         1        4.4  \n",
              "264833                  Doritos Mexicana    170g         2        8.8  \n",
              "264834   Doritos Corn Chip Mexican Jalapeno 150g         2        7.8  \n",
              "264835             Tostitos Splash Of  Lime 175g         2        8.8  \n",
              "\n",
              "[246742 rows x 8 columns]"
            ],
            "text/html": [
              "\n",
              "  <div id=\"df-ad448de3-ec48-4bf6-8efc-db10407b6d49\" class=\"colab-df-container\">\n",
              "    <div>\n",
              "<style scoped>\n",
              "    .dataframe tbody tr th:only-of-type {\n",
              "        vertical-align: middle;\n",
              "    }\n",
              "\n",
              "    .dataframe tbody tr th {\n",
              "        vertical-align: top;\n",
              "    }\n",
              "\n",
              "    .dataframe thead th {\n",
              "        text-align: right;\n",
              "    }\n",
              "</style>\n",
              "<table border=\"1\" class=\"dataframe\">\n",
              "  <thead>\n",
              "    <tr style=\"text-align: right;\">\n",
              "      <th></th>\n",
              "      <th>DATE</th>\n",
              "      <th>STORE_NBR</th>\n",
              "      <th>LYLTY_CARD_NBR</th>\n",
              "      <th>TXN_ID</th>\n",
              "      <th>PROD_NBR</th>\n",
              "      <th>PROD_NAME</th>\n",
              "      <th>PROD_QTY</th>\n",
              "      <th>TOT_SALES</th>\n",
              "    </tr>\n",
              "  </thead>\n",
              "  <tbody>\n",
              "    <tr>\n",
              "      <th>0</th>\n",
              "      <td>2018-10-17</td>\n",
              "      <td>1</td>\n",
              "      <td>1000</td>\n",
              "      <td>1</td>\n",
              "      <td>5</td>\n",
              "      <td>Natural Chip        Compny SeaSalt175g</td>\n",
              "      <td>2</td>\n",
              "      <td>6.0</td>\n",
              "    </tr>\n",
              "    <tr>\n",
              "      <th>1</th>\n",
              "      <td>2019-05-14</td>\n",
              "      <td>1</td>\n",
              "      <td>1307</td>\n",
              "      <td>348</td>\n",
              "      <td>66</td>\n",
              "      <td>CCs Nacho Cheese    175g</td>\n",
              "      <td>3</td>\n",
              "      <td>6.3</td>\n",
              "    </tr>\n",
              "    <tr>\n",
              "      <th>2</th>\n",
              "      <td>2019-05-20</td>\n",
              "      <td>1</td>\n",
              "      <td>1343</td>\n",
              "      <td>383</td>\n",
              "      <td>61</td>\n",
              "      <td>Smiths Crinkle Cut  Chips Chicken 170g</td>\n",
              "      <td>2</td>\n",
              "      <td>2.9</td>\n",
              "    </tr>\n",
              "    <tr>\n",
              "      <th>3</th>\n",
              "      <td>2018-08-17</td>\n",
              "      <td>2</td>\n",
              "      <td>2373</td>\n",
              "      <td>974</td>\n",
              "      <td>69</td>\n",
              "      <td>Smiths Chip Thinly  S/Cream&amp;Onion 175g</td>\n",
              "      <td>5</td>\n",
              "      <td>15.0</td>\n",
              "    </tr>\n",
              "    <tr>\n",
              "      <th>4</th>\n",
              "      <td>2018-08-18</td>\n",
              "      <td>2</td>\n",
              "      <td>2426</td>\n",
              "      <td>1038</td>\n",
              "      <td>108</td>\n",
              "      <td>Kettle Tortilla ChpsHny&amp;Jlpno Chili 150g</td>\n",
              "      <td>3</td>\n",
              "      <td>13.8</td>\n",
              "    </tr>\n",
              "    <tr>\n",
              "      <th>...</th>\n",
              "      <td>...</td>\n",
              "      <td>...</td>\n",
              "      <td>...</td>\n",
              "      <td>...</td>\n",
              "      <td>...</td>\n",
              "      <td>...</td>\n",
              "      <td>...</td>\n",
              "      <td>...</td>\n",
              "    </tr>\n",
              "    <tr>\n",
              "      <th>264831</th>\n",
              "      <td>2019-03-09</td>\n",
              "      <td>272</td>\n",
              "      <td>272319</td>\n",
              "      <td>270088</td>\n",
              "      <td>89</td>\n",
              "      <td>Kettle Sweet Chilli And Sour Cream 175g</td>\n",
              "      <td>2</td>\n",
              "      <td>10.8</td>\n",
              "    </tr>\n",
              "    <tr>\n",
              "      <th>264832</th>\n",
              "      <td>2018-08-13</td>\n",
              "      <td>272</td>\n",
              "      <td>272358</td>\n",
              "      <td>270154</td>\n",
              "      <td>74</td>\n",
              "      <td>Tostitos Splash Of  Lime 175g</td>\n",
              "      <td>1</td>\n",
              "      <td>4.4</td>\n",
              "    </tr>\n",
              "    <tr>\n",
              "      <th>264833</th>\n",
              "      <td>2018-11-06</td>\n",
              "      <td>272</td>\n",
              "      <td>272379</td>\n",
              "      <td>270187</td>\n",
              "      <td>51</td>\n",
              "      <td>Doritos Mexicana    170g</td>\n",
              "      <td>2</td>\n",
              "      <td>8.8</td>\n",
              "    </tr>\n",
              "    <tr>\n",
              "      <th>264834</th>\n",
              "      <td>2018-12-27</td>\n",
              "      <td>272</td>\n",
              "      <td>272379</td>\n",
              "      <td>270188</td>\n",
              "      <td>42</td>\n",
              "      <td>Doritos Corn Chip Mexican Jalapeno 150g</td>\n",
              "      <td>2</td>\n",
              "      <td>7.8</td>\n",
              "    </tr>\n",
              "    <tr>\n",
              "      <th>264835</th>\n",
              "      <td>2018-09-22</td>\n",
              "      <td>272</td>\n",
              "      <td>272380</td>\n",
              "      <td>270189</td>\n",
              "      <td>74</td>\n",
              "      <td>Tostitos Splash Of  Lime 175g</td>\n",
              "      <td>2</td>\n",
              "      <td>8.8</td>\n",
              "    </tr>\n",
              "  </tbody>\n",
              "</table>\n",
              "<p>246742 rows × 8 columns</p>\n",
              "</div>\n",
              "    <div class=\"colab-df-buttons\">\n",
              "\n",
              "  <div class=\"colab-df-container\">\n",
              "    <button class=\"colab-df-convert\" onclick=\"convertToInteractive('df-ad448de3-ec48-4bf6-8efc-db10407b6d49')\"\n",
              "            title=\"Convert this dataframe to an interactive table.\"\n",
              "            style=\"display:none;\">\n",
              "\n",
              "  <svg xmlns=\"http://www.w3.org/2000/svg\" height=\"24px\" viewBox=\"0 -960 960 960\">\n",
              "    <path d=\"M120-120v-720h720v720H120Zm60-500h600v-160H180v160Zm220 220h160v-160H400v160Zm0 220h160v-160H400v160ZM180-400h160v-160H180v160Zm440 0h160v-160H620v160ZM180-180h160v-160H180v160Zm440 0h160v-160H620v160Z\"/>\n",
              "  </svg>\n",
              "    </button>\n",
              "\n",
              "  <style>\n",
              "    .colab-df-container {\n",
              "      display:flex;\n",
              "      gap: 12px;\n",
              "    }\n",
              "\n",
              "    .colab-df-convert {\n",
              "      background-color: #E8F0FE;\n",
              "      border: none;\n",
              "      border-radius: 50%;\n",
              "      cursor: pointer;\n",
              "      display: none;\n",
              "      fill: #1967D2;\n",
              "      height: 32px;\n",
              "      padding: 0 0 0 0;\n",
              "      width: 32px;\n",
              "    }\n",
              "\n",
              "    .colab-df-convert:hover {\n",
              "      background-color: #E2EBFA;\n",
              "      box-shadow: 0px 1px 2px rgba(60, 64, 67, 0.3), 0px 1px 3px 1px rgba(60, 64, 67, 0.15);\n",
              "      fill: #174EA6;\n",
              "    }\n",
              "\n",
              "    .colab-df-buttons div {\n",
              "      margin-bottom: 4px;\n",
              "    }\n",
              "\n",
              "    [theme=dark] .colab-df-convert {\n",
              "      background-color: #3B4455;\n",
              "      fill: #D2E3FC;\n",
              "    }\n",
              "\n",
              "    [theme=dark] .colab-df-convert:hover {\n",
              "      background-color: #434B5C;\n",
              "      box-shadow: 0px 1px 3px 1px rgba(0, 0, 0, 0.15);\n",
              "      filter: drop-shadow(0px 1px 2px rgba(0, 0, 0, 0.3));\n",
              "      fill: #FFFFFF;\n",
              "    }\n",
              "  </style>\n",
              "\n",
              "    <script>\n",
              "      const buttonEl =\n",
              "        document.querySelector('#df-ad448de3-ec48-4bf6-8efc-db10407b6d49 button.colab-df-convert');\n",
              "      buttonEl.style.display =\n",
              "        google.colab.kernel.accessAllowed ? 'block' : 'none';\n",
              "\n",
              "      async function convertToInteractive(key) {\n",
              "        const element = document.querySelector('#df-ad448de3-ec48-4bf6-8efc-db10407b6d49');\n",
              "        const dataTable =\n",
              "          await google.colab.kernel.invokeFunction('convertToInteractive',\n",
              "                                                    [key], {});\n",
              "        if (!dataTable) return;\n",
              "\n",
              "        const docLinkHtml = 'Like what you see? Visit the ' +\n",
              "          '<a target=\"_blank\" href=https://colab.research.google.com/notebooks/data_table.ipynb>data table notebook</a>'\n",
              "          + ' to learn more about interactive tables.';\n",
              "        element.innerHTML = '';\n",
              "        dataTable['output_type'] = 'display_data';\n",
              "        await google.colab.output.renderOutput(dataTable, element);\n",
              "        const docLink = document.createElement('div');\n",
              "        docLink.innerHTML = docLinkHtml;\n",
              "        element.appendChild(docLink);\n",
              "      }\n",
              "    </script>\n",
              "  </div>\n",
              "\n",
              "\n",
              "<div id=\"df-4f5cfc40-f3f7-4572-b231-1b65686248b3\">\n",
              "  <button class=\"colab-df-quickchart\" onclick=\"quickchart('df-4f5cfc40-f3f7-4572-b231-1b65686248b3')\"\n",
              "            title=\"Suggest charts\"\n",
              "            style=\"display:none;\">\n",
              "\n",
              "<svg xmlns=\"http://www.w3.org/2000/svg\" height=\"24px\"viewBox=\"0 0 24 24\"\n",
              "     width=\"24px\">\n",
              "    <g>\n",
              "        <path d=\"M19 3H5c-1.1 0-2 .9-2 2v14c0 1.1.9 2 2 2h14c1.1 0 2-.9 2-2V5c0-1.1-.9-2-2-2zM9 17H7v-7h2v7zm4 0h-2V7h2v10zm4 0h-2v-4h2v4z\"/>\n",
              "    </g>\n",
              "</svg>\n",
              "  </button>\n",
              "\n",
              "<style>\n",
              "  .colab-df-quickchart {\n",
              "      --bg-color: #E8F0FE;\n",
              "      --fill-color: #1967D2;\n",
              "      --hover-bg-color: #E2EBFA;\n",
              "      --hover-fill-color: #174EA6;\n",
              "      --disabled-fill-color: #AAA;\n",
              "      --disabled-bg-color: #DDD;\n",
              "  }\n",
              "\n",
              "  [theme=dark] .colab-df-quickchart {\n",
              "      --bg-color: #3B4455;\n",
              "      --fill-color: #D2E3FC;\n",
              "      --hover-bg-color: #434B5C;\n",
              "      --hover-fill-color: #FFFFFF;\n",
              "      --disabled-bg-color: #3B4455;\n",
              "      --disabled-fill-color: #666;\n",
              "  }\n",
              "\n",
              "  .colab-df-quickchart {\n",
              "    background-color: var(--bg-color);\n",
              "    border: none;\n",
              "    border-radius: 50%;\n",
              "    cursor: pointer;\n",
              "    display: none;\n",
              "    fill: var(--fill-color);\n",
              "    height: 32px;\n",
              "    padding: 0;\n",
              "    width: 32px;\n",
              "  }\n",
              "\n",
              "  .colab-df-quickchart:hover {\n",
              "    background-color: var(--hover-bg-color);\n",
              "    box-shadow: 0 1px 2px rgba(60, 64, 67, 0.3), 0 1px 3px 1px rgba(60, 64, 67, 0.15);\n",
              "    fill: var(--button-hover-fill-color);\n",
              "  }\n",
              "\n",
              "  .colab-df-quickchart-complete:disabled,\n",
              "  .colab-df-quickchart-complete:disabled:hover {\n",
              "    background-color: var(--disabled-bg-color);\n",
              "    fill: var(--disabled-fill-color);\n",
              "    box-shadow: none;\n",
              "  }\n",
              "\n",
              "  .colab-df-spinner {\n",
              "    border: 2px solid var(--fill-color);\n",
              "    border-color: transparent;\n",
              "    border-bottom-color: var(--fill-color);\n",
              "    animation:\n",
              "      spin 1s steps(1) infinite;\n",
              "  }\n",
              "\n",
              "  @keyframes spin {\n",
              "    0% {\n",
              "      border-color: transparent;\n",
              "      border-bottom-color: var(--fill-color);\n",
              "      border-left-color: var(--fill-color);\n",
              "    }\n",
              "    20% {\n",
              "      border-color: transparent;\n",
              "      border-left-color: var(--fill-color);\n",
              "      border-top-color: var(--fill-color);\n",
              "    }\n",
              "    30% {\n",
              "      border-color: transparent;\n",
              "      border-left-color: var(--fill-color);\n",
              "      border-top-color: var(--fill-color);\n",
              "      border-right-color: var(--fill-color);\n",
              "    }\n",
              "    40% {\n",
              "      border-color: transparent;\n",
              "      border-right-color: var(--fill-color);\n",
              "      border-top-color: var(--fill-color);\n",
              "    }\n",
              "    60% {\n",
              "      border-color: transparent;\n",
              "      border-right-color: var(--fill-color);\n",
              "    }\n",
              "    80% {\n",
              "      border-color: transparent;\n",
              "      border-right-color: var(--fill-color);\n",
              "      border-bottom-color: var(--fill-color);\n",
              "    }\n",
              "    90% {\n",
              "      border-color: transparent;\n",
              "      border-bottom-color: var(--fill-color);\n",
              "    }\n",
              "  }\n",
              "</style>\n",
              "\n",
              "  <script>\n",
              "    async function quickchart(key) {\n",
              "      const quickchartButtonEl =\n",
              "        document.querySelector('#' + key + ' button');\n",
              "      quickchartButtonEl.disabled = true;  // To prevent multiple clicks.\n",
              "      quickchartButtonEl.classList.add('colab-df-spinner');\n",
              "      try {\n",
              "        const charts = await google.colab.kernel.invokeFunction(\n",
              "            'suggestCharts', [key], {});\n",
              "      } catch (error) {\n",
              "        console.error('Error during call to suggestCharts:', error);\n",
              "      }\n",
              "      quickchartButtonEl.classList.remove('colab-df-spinner');\n",
              "      quickchartButtonEl.classList.add('colab-df-quickchart-complete');\n",
              "    }\n",
              "    (() => {\n",
              "      let quickchartButtonEl =\n",
              "        document.querySelector('#df-4f5cfc40-f3f7-4572-b231-1b65686248b3 button');\n",
              "      quickchartButtonEl.style.display =\n",
              "        google.colab.kernel.accessAllowed ? 'block' : 'none';\n",
              "    })();\n",
              "  </script>\n",
              "</div>\n",
              "\n",
              "  <div id=\"id_057f5245-fc49-4237-a2cf-b10110f3b7b9\">\n",
              "    <style>\n",
              "      .colab-df-generate {\n",
              "        background-color: #E8F0FE;\n",
              "        border: none;\n",
              "        border-radius: 50%;\n",
              "        cursor: pointer;\n",
              "        display: none;\n",
              "        fill: #1967D2;\n",
              "        height: 32px;\n",
              "        padding: 0 0 0 0;\n",
              "        width: 32px;\n",
              "      }\n",
              "\n",
              "      .colab-df-generate:hover {\n",
              "        background-color: #E2EBFA;\n",
              "        box-shadow: 0px 1px 2px rgba(60, 64, 67, 0.3), 0px 1px 3px 1px rgba(60, 64, 67, 0.15);\n",
              "        fill: #174EA6;\n",
              "      }\n",
              "\n",
              "      [theme=dark] .colab-df-generate {\n",
              "        background-color: #3B4455;\n",
              "        fill: #D2E3FC;\n",
              "      }\n",
              "\n",
              "      [theme=dark] .colab-df-generate:hover {\n",
              "        background-color: #434B5C;\n",
              "        box-shadow: 0px 1px 3px 1px rgba(0, 0, 0, 0.15);\n",
              "        filter: drop-shadow(0px 1px 2px rgba(0, 0, 0, 0.3));\n",
              "        fill: #FFFFFF;\n",
              "      }\n",
              "    </style>\n",
              "    <button class=\"colab-df-generate\" onclick=\"generateWithVariable('transaction_data')\"\n",
              "            title=\"Generate code using this dataframe.\"\n",
              "            style=\"display:none;\">\n",
              "\n",
              "  <svg xmlns=\"http://www.w3.org/2000/svg\" height=\"24px\"viewBox=\"0 0 24 24\"\n",
              "       width=\"24px\">\n",
              "    <path d=\"M7,19H8.4L18.45,9,17,7.55,7,17.6ZM5,21V16.75L18.45,3.32a2,2,0,0,1,2.83,0l1.4,1.43a1.91,1.91,0,0,1,.58,1.4,1.91,1.91,0,0,1-.58,1.4L9.25,21ZM18.45,9,17,7.55Zm-12,3A5.31,5.31,0,0,0,4.9,8.1,5.31,5.31,0,0,0,1,6.5,5.31,5.31,0,0,0,4.9,4.9,5.31,5.31,0,0,0,6.5,1,5.31,5.31,0,0,0,8.1,4.9,5.31,5.31,0,0,0,12,6.5,5.46,5.46,0,0,0,6.5,12Z\"/>\n",
              "  </svg>\n",
              "    </button>\n",
              "    <script>\n",
              "      (() => {\n",
              "      const buttonEl =\n",
              "        document.querySelector('#id_057f5245-fc49-4237-a2cf-b10110f3b7b9 button.colab-df-generate');\n",
              "      buttonEl.style.display =\n",
              "        google.colab.kernel.accessAllowed ? 'block' : 'none';\n",
              "\n",
              "      buttonEl.onclick = () => {\n",
              "        google.colab.notebook.generateWithVariable('transaction_data');\n",
              "      }\n",
              "      })();\n",
              "    </script>\n",
              "  </div>\n",
              "\n",
              "    </div>\n",
              "  </div>\n"
            ],
            "application/vnd.google.colaboratory.intrinsic+json": {
              "type": "dataframe",
              "variable_name": "transaction_data"
            }
          },
          "metadata": {},
          "execution_count": 10
        }
      ]
    },
    {
      "cell_type": "code",
      "source": [
        "# Let's look at the statistics\n",
        "print(transaction_data.describe())"
      ],
      "metadata": {
        "colab": {
          "base_uri": "https://localhost:8080/"
        },
        "id": "YYsGKPSyKHcR",
        "outputId": "da160ed3-ac6d-40e8-a104-3f3200b42703"
      },
      "execution_count": 11,
      "outputs": [
        {
          "output_type": "stream",
          "name": "stdout",
          "text": [
            "                                DATE      STORE_NBR  LYLTY_CARD_NBR  \\\n",
            "count                         246742  246742.000000    2.467420e+05   \n",
            "mean   2018-12-30 01:19:01.211467520     135.051098    1.355310e+05   \n",
            "min              2018-07-01 00:00:00       1.000000    1.000000e+03   \n",
            "25%              2018-09-30 00:00:00      70.000000    7.001500e+04   \n",
            "50%              2018-12-30 00:00:00     130.000000    1.303670e+05   \n",
            "75%              2019-03-31 00:00:00     203.000000    2.030840e+05   \n",
            "max              2019-06-30 00:00:00     272.000000    2.373711e+06   \n",
            "std                              NaN      76.787096    8.071528e+04   \n",
            "\n",
            "             TXN_ID       PROD_NBR       PROD_QTY      TOT_SALES  \n",
            "count  2.467420e+05  246742.000000  246742.000000  246742.000000  \n",
            "mean   1.351311e+05      56.351789       1.908062       7.321322  \n",
            "min    1.000000e+00       1.000000       1.000000       1.700000  \n",
            "25%    6.756925e+04      26.000000       2.000000       5.800000  \n",
            "50%    1.351830e+05      53.000000       2.000000       7.400000  \n",
            "75%    2.026538e+05      87.000000       2.000000       8.800000  \n",
            "max    2.415841e+06     114.000000     200.000000     650.000000  \n",
            "std    7.814772e+04      33.695428       0.659831       3.077828  \n"
          ]
        }
      ]
    },
    {
      "cell_type": "code",
      "source": [
        "transaction_data.info()"
      ],
      "metadata": {
        "colab": {
          "base_uri": "https://localhost:8080/"
        },
        "id": "yZxX8smSER-w",
        "outputId": "3d8f785b-c4bd-417d-92c8-b2cf72afd9f9"
      },
      "execution_count": 12,
      "outputs": [
        {
          "output_type": "stream",
          "name": "stdout",
          "text": [
            "<class 'pandas.core.frame.DataFrame'>\n",
            "Index: 246742 entries, 0 to 264835\n",
            "Data columns (total 8 columns):\n",
            " #   Column          Non-Null Count   Dtype         \n",
            "---  ------          --------------   -----         \n",
            " 0   DATE            246742 non-null  datetime64[ns]\n",
            " 1   STORE_NBR       246742 non-null  int64         \n",
            " 2   LYLTY_CARD_NBR  246742 non-null  int64         \n",
            " 3   TXN_ID          246742 non-null  int64         \n",
            " 4   PROD_NBR        246742 non-null  int64         \n",
            " 5   PROD_NAME       246742 non-null  object        \n",
            " 6   PROD_QTY        246742 non-null  int64         \n",
            " 7   TOT_SALES       246742 non-null  float64       \n",
            "dtypes: datetime64[ns](1), float64(1), int64(5), object(1)\n",
            "memory usage: 16.9+ MB\n"
          ]
        }
      ]
    },
    {
      "cell_type": "markdown",
      "source": [
        "No missing values"
      ],
      "metadata": {
        "id": "0kJWyhuZEXzR"
      }
    },
    {
      "cell_type": "code",
      "source": [
        "# Let's plot box plots to identify outliers.\n",
        "def box(x):\n",
        "\n",
        "  '''Function for plotting box plots.\n",
        "  Input:\n",
        "  x - Feature\n",
        "  Output:\n",
        "  Box plot by feature'''\n",
        "\n",
        "  plt.figure(figsize=(8, 6))\n",
        "  sns.boxplot(x=transaction_data[x])\n",
        "  plt.show()"
      ],
      "metadata": {
        "id": "N03iAMcyC5br"
      },
      "execution_count": 13,
      "outputs": []
    },
    {
      "cell_type": "code",
      "source": [
        "box('STORE_NBR')"
      ],
      "metadata": {
        "colab": {
          "base_uri": "https://localhost:8080/",
          "height": 542
        },
        "id": "KblZYCs_C5ey",
        "outputId": "87c5a622-8b42-491a-aa6a-5c398139f10c"
      },
      "execution_count": 14,
      "outputs": [
        {
          "output_type": "display_data",
          "data": {
            "text/plain": [
              "<Figure size 800x600 with 1 Axes>"
            ],
            "image/png": "[encoded data removed]"
          },
          "metadata": {}
        }
      ]
    },
    {
      "cell_type": "code",
      "source": [
        "box('LYLTY_CARD_NBR')"
      ],
      "metadata": {
        "colab": {
          "base_uri": "https://localhost:8080/",
          "height": 542
        },
        "id": "9ftJQ3oBFSLa",
        "outputId": "67ac0403-90cd-4944-b43e-7e9904c77ce6"
      },
      "execution_count": 15,
      "outputs": [
        {
          "output_type": "display_data",
          "data": {
            "text/plain": [
              "<Figure size 800x600 with 1 Axes>"
            ],
            "image/png": "[encoded data removed]"
          },
          "metadata": {}
        }
      ]
    },
    {
      "cell_type": "code",
      "source": [
        "box('TXN_ID')"
      ],
      "metadata": {
        "colab": {
          "base_uri": "https://localhost:8080/",
          "height": 542
        },
        "id": "VVvoH1eHFSOQ",
        "outputId": "0cf1d993-f261-47b7-ac2f-de05a2a95356"
      },
      "execution_count": 16,
      "outputs": [
        {
          "output_type": "display_data",
          "data": {
            "text/plain": [
              "<Figure size 800x600 with 1 Axes>"
            ],
            "image/png": "[encoded data removed]"
          },
          "metadata": {}
        }
      ]
    },
    {
      "cell_type": "code",
      "source": [
        "box('PROD_NBR')"
      ],
      "metadata": {
        "colab": {
          "base_uri": "https://localhost:8080/",
          "height": 542
        },
        "id": "6K90GuTqFSRM",
        "outputId": "8f63240a-4b8a-4516-aada-bfd951381b7e"
      },
      "execution_count": 17,
      "outputs": [
        {
          "output_type": "display_data",
          "data": {
            "text/plain": [
              "<Figure size 800x600 with 1 Axes>"
            ],
            "image/png": "[encoded data removed]"
          },
          "metadata": {}
        }
      ]
    },
    {
      "cell_type": "code",
      "source": [
        "box('PROD_NAME')"
      ],
      "metadata": {
        "colab": {
          "base_uri": "https://localhost:8080/",
          "height": 542
        },
        "id": "aoYGuZGFFSUJ",
        "outputId": "b79f87ae-e52d-40c3-c85a-51e473b98676"
      },
      "execution_count": 18,
      "outputs": [
        {
          "output_type": "display_data",
          "data": {
            "text/plain": [
              "<Figure size 800x600 with 1 Axes>"
            ],
            "image/png": "[encoded data removed]"
          },
          "metadata": {}
        }
      ]
    },
    {
      "cell_type": "code",
      "source": [
        "box('PROD_QTY')"
      ],
      "metadata": {
        "colab": {
          "base_uri": "https://localhost:8080/",
          "height": 542
        },
        "id": "JkjBLyh4FSW6",
        "outputId": "0cde82f4-79b6-43e1-c7bf-9fd4f866404d"
      },
      "execution_count": 19,
      "outputs": [
        {
          "output_type": "display_data",
          "data": {
            "text/plain": [
              "<Figure size 800x600 with 1 Axes>"
            ],
            "image/png": "[encoded data removed]"
          },
          "metadata": {}
        }
      ]
    },
    {
      "cell_type": "code",
      "source": [
        "box('TOT_SALES')"
      ],
      "metadata": {
        "colab": {
          "base_uri": "https://localhost:8080/",
          "height": 542
        },
        "id": "8U2PaHGzFSZn",
        "outputId": "93fd2dbe-bea4-45ea-bb95-de665c292103"
      },
      "execution_count": 20,
      "outputs": [
        {
          "output_type": "display_data",
          "data": {
            "text/plain": [
              "<Figure size 800x600 with 1 Axes>"
            ],
            "image/png": "[encoded data removed]"
          },
          "metadata": {}
        }
      ]
    },
    {
      "cell_type": "markdown",
      "source": [
        "There are no nulls in the columns but product quantity appears to have an outlier\n",
        "which we should investigate further. Let's investigate further the case where 200\n",
        "packets of chips are bought in one transaction."
      ],
      "metadata": {
        "id": "fuAcN_pKCzeQ"
      }
    },
    {
      "cell_type": "code",
      "source": [
        "# Searching for anomalous purchases\n",
        "outlier_transactions = transaction_data[transaction_data['PROD_QTY'] == 200]\n",
        "print(outlier_transactions)"
      ],
      "metadata": {
        "colab": {
          "base_uri": "https://localhost:8080/"
        },
        "id": "YUqbAkspKHe0",
        "outputId": "a7590855-6bad-46ce-8c75-497be3d43546"
      },
      "execution_count": 21,
      "outputs": [
        {
          "output_type": "stream",
          "name": "stdout",
          "text": [
            "            DATE  STORE_NBR  LYLTY_CARD_NBR  TXN_ID  PROD_NBR  \\\n",
            "69762 2018-08-19        226          226000  226201         4   \n",
            "69763 2019-05-20        226          226000  226210         4   \n",
            "\n",
            "                              PROD_NAME  PROD_QTY  TOT_SALES  \n",
            "69762  Dorito Corn Chp     Supreme 380g       200      650.0  \n",
            "69763  Dorito Corn Chp     Supreme 380g       200      650.0  \n"
          ]
        }
      ]
    },
    {
      "cell_type": "markdown",
      "source": [
        "It looks like this customer has only had the two transactions over the year and is\n",
        "not an ordinary retail customer. The customer might be buying chips for commercial\n",
        "purposes instead. We'll remove this loyalty card number from further analysis.\n"
      ],
      "metadata": {
        "id": "O-zUbrpOGncr"
      }
    },
    {
      "cell_type": "code",
      "source": [
        "# Exclusion of the anomalous customer\n",
        "excluded_customer = outlier_transactions['LYLTY_CARD_NBR'].values[0]\n",
        "transaction_data = transaction_data[transaction_data['LYLTY_CARD_NBR'] != excluded_customer]"
      ],
      "metadata": {
        "id": "3z8TxGlaKHhZ"
      },
      "execution_count": 22,
      "outputs": []
    },
    {
      "cell_type": "code",
      "source": [
        "box('PROD_QTY')"
      ],
      "metadata": {
        "colab": {
          "base_uri": "https://localhost:8080/",
          "height": 542
        },
        "id": "1nJqXck7GDCl",
        "outputId": "fc126fb5-f50f-4c5a-a523-e66c0610cbd9"
      },
      "execution_count": 23,
      "outputs": [
        {
          "output_type": "display_data",
          "data": {
            "text/plain": [
              "<Figure size 800x600 with 1 Axes>"
            ],
            "image/png": "[encoded data removed]"
          },
          "metadata": {}
        }
      ]
    },
    {
      "cell_type": "code",
      "source": [
        "transaction_data.info()"
      ],
      "metadata": {
        "colab": {
          "base_uri": "https://localhost:8080/"
        },
        "id": "4yhAEBKGHLkD",
        "outputId": "617f017e-7975-4a44-9ab9-1a0a6cab9c5a"
      },
      "execution_count": 24,
      "outputs": [
        {
          "output_type": "stream",
          "name": "stdout",
          "text": [
            "<class 'pandas.core.frame.DataFrame'>\n",
            "Index: 246740 entries, 0 to 264835\n",
            "Data columns (total 8 columns):\n",
            " #   Column          Non-Null Count   Dtype         \n",
            "---  ------          --------------   -----         \n",
            " 0   DATE            246740 non-null  datetime64[ns]\n",
            " 1   STORE_NBR       246740 non-null  int64         \n",
            " 2   LYLTY_CARD_NBR  246740 non-null  int64         \n",
            " 3   TXN_ID          246740 non-null  int64         \n",
            " 4   PROD_NBR        246740 non-null  int64         \n",
            " 5   PROD_NAME       246740 non-null  object        \n",
            " 6   PROD_QTY        246740 non-null  int64         \n",
            " 7   TOT_SALES       246740 non-null  float64       \n",
            "dtypes: datetime64[ns](1), float64(1), int64(5), object(1)\n",
            "memory usage: 16.9+ MB\n"
          ]
        }
      ]
    },
    {
      "cell_type": "code",
      "source": [
        "# Time Series Analysis\n",
        "transaction_counts = transaction_data.groupby('DATE').size()\n",
        "plt.figure(figsize=(12, 6))\n",
        "sns.lineplot(x=transaction_counts.index, y=transaction_counts.values)\n",
        "plt.xticks(rotation=90)\n",
        "plt.title(\"Transactions Over Time\")\n",
        "plt.show()"
      ],
      "metadata": {
        "colab": {
          "base_uri": "https://localhost:8080/",
          "height": 608
        },
        "id": "hPskkwZiKHj5",
        "outputId": "65d95b73-8c90-4222-9046-14a79b176afa"
      },
      "execution_count": 25,
      "outputs": [
        {
          "output_type": "display_data",
          "data": {
            "text/plain": [
              "<Figure size 1200x600 with 1 Axes>"
            ],
            "image/png": "[encoded data removed]"
          },
          "metadata": {}
        }
      ]
    },
    {
      "cell_type": "markdown",
      "source": [
        "Searching for the missing date from late December to January"
      ],
      "metadata": {
        "id": "SNdVBd00XwZi"
      }
    },
    {
      "cell_type": "code",
      "source": [
        "# Creating a complete date range\n",
        "full_date_range = pd.date_range(start='2018-07-01', end='2019-06-30')\n",
        "\n",
        "# Getting unique dates from the data\n",
        "existing_dates = pd.to_datetime(transaction_data['DATE'].unique())\n",
        "\n",
        "# Finding the missing date\n",
        "missing_dates = full_date_range.difference(existing_dates)\n",
        "\n",
        "print(\"Missing date:\", missing_dates)"
      ],
      "metadata": {
        "colab": {
          "base_uri": "https://localhost:8080/"
        },
        "id": "Pz_B0skGAEYs",
        "outputId": "d3247361-8b37-42ba-f6ca-f8019c2db16e"
      },
      "execution_count": 26,
      "outputs": [
        {
          "output_type": "stream",
          "name": "stdout",
          "text": [
            "Missing date: DatetimeIndex(['2018-12-25'], dtype='datetime64[ns]', freq='D')\n"
          ]
        }
      ]
    },
    {
      "cell_type": "markdown",
      "source": [
        "We can see that the increase in sales occurs in the lead-up to Christmas and that\n",
        "there are zero sales on Christmas day itself. This is due to shops being closed on\n",
        "Christmas day.\n",
        "Now that we are satisfied that the data no longer has outliers, we can move on to\n",
        "creating other features such as brand of chips or pack size from PROD_NAME. We will\n",
        "start with pack size.\n"
      ],
      "metadata": {
        "id": "ERcYWWMnBfiV"
      }
    },
    {
      "cell_type": "code",
      "source": [
        "# Adding Pack Size\n",
        "transaction_data['PACK_SIZE'] = transaction_data['PROD_NAME'].str.extract(r'(\\d+)').astype(float)\n",
        "\n",
        "# Histogram of Pack Sizes\n",
        "plt.figure(figsize=(8, 5))\n",
        "sns.histplot(transaction_data['PACK_SIZE'], bins=20, kde=True)\n",
        "plt.title(\"Distribution of Pack Sizes\")\n",
        "plt.show()"
      ],
      "metadata": {
        "colab": {
          "base_uri": "https://localhost:8080/",
          "height": 591
        },
        "id": "qoj-oTmPKHmV",
        "outputId": "05420219-a33e-4fe0-dd01-a045065dd256"
      },
      "execution_count": 27,
      "outputs": [
        {
          "output_type": "stream",
          "name": "stderr",
          "text": [
            "<ipython-input-27-902f829ff635>:2: SettingWithCopyWarning: \n",
            "A value is trying to be set on a copy of a slice from a DataFrame.\n",
            "Try using .loc[row_indexer,col_indexer] = value instead\n",
            "\n",
            "See the caveats in the documentation: https://pandas.pydata.org/pandas-docs/stable/user_guide/indexing.html#returning-a-view-versus-a-copy\n",
            "  transaction_data['PACK_SIZE'] = transaction_data['PROD_NAME'].str.extract(r'(\\d+)').astype(float)\n"
          ]
        },
        {
          "output_type": "display_data",
          "data": {
            "text/plain": [
              "<Figure size 800x500 with 1 Axes>"
            ],
            "image/png": "[encoded data removed]"
          },
          "metadata": {}
        }
      ]
    },
    {
      "cell_type": "markdown",
      "source": [
        "Some of the brand names look like they are of the same brands - such as RED and\n",
        "RRD, which are both Red Rock Deli chips. Let's combine these together."
      ],
      "metadata": {
        "id": "Jr95dcFACYrF"
      }
    },
    {
      "cell_type": "code",
      "source": [
        "# Brand Analysis\n",
        "transaction_data['BRAND'] = transaction_data['PROD_NAME'].str.split().str[0]\n",
        "transaction_data.loc[:, 'BRAND'] = transaction_data['BRAND'].replace({'Red': 'RRD'})\n",
        "print(transaction_data['BRAND'].value_counts())"
      ],
      "metadata": {
        "colab": {
          "base_uri": "https://localhost:8080/"
        },
        "id": "_ZuWOmNbdzVI",
        "outputId": "b86db1c6-ecf6-4965-8c50-f3829c9a491b"
      },
      "execution_count": 28,
      "outputs": [
        {
          "output_type": "stream",
          "name": "stderr",
          "text": [
            "<ipython-input-28-94d22f5b6dcb>:2: SettingWithCopyWarning: \n",
            "A value is trying to be set on a copy of a slice from a DataFrame.\n",
            "Try using .loc[row_indexer,col_indexer] = value instead\n",
            "\n",
            "See the caveats in the documentation: https://pandas.pydata.org/pandas-docs/stable/user_guide/indexing.html#returning-a-view-versus-a-copy\n",
            "  transaction_data['BRAND'] = transaction_data['PROD_NAME'].str.split().str[0]\n"
          ]
        },
        {
          "output_type": "stream",
          "name": "stdout",
          "text": [
            "BRAND\n",
            "Kettle        41288\n",
            "Smiths        27390\n",
            "Pringles      25102\n",
            "Doritos       22041\n",
            "RRD           16321\n",
            "Thins         14075\n",
            "Infuzions     11057\n",
            "WW            10320\n",
            "Cobs           9693\n",
            "Tostitos       9471\n",
            "Twisties       9454\n",
            "Tyrrells       6442\n",
            "Grain          6272\n",
            "Natural        6050\n",
            "Cheezels       4603\n",
            "CCs            4551\n",
            "Dorito         3183\n",
            "Infzns         3144\n",
            "Smith          2963\n",
            "Cheetos        2927\n",
            "Snbts          1576\n",
            "Burger         1564\n",
            "Woolworths     1516\n",
            "GrnWves        1468\n",
            "Sunbites       1432\n",
            "NCC            1419\n",
            "French         1418\n",
            "Name: count, dtype: int64\n"
          ]
        }
      ]
    },
    {
      "cell_type": "code",
      "source": [
        "# There are duplicate brands under different names in the dataset. Let's merge them.\n",
        "transaction_data.loc[:, 'BRAND'] = transaction_data['BRAND'].replace({'Smiths': 'Smith'})\n",
        "transaction_data.loc[:, 'BRAND'] = transaction_data['BRAND'].replace({'Infzns': 'Infuzions'})\n",
        "transaction_data.loc[:, 'BRAND'] = transaction_data['BRAND'].replace({'Dorito': 'Doritos'})\n",
        "transaction_data.loc[:, 'BRAND'] = transaction_data['BRAND'].replace({'CCs': 'Cheetos'})\n",
        "transaction_data.loc[:, 'BRAND'] = transaction_data['BRAND'].replace({'Snbts': 'Sunbites'})\n",
        "transaction_data.loc[:, 'BRAND'] = transaction_data['BRAND'].replace({'WW': 'Woolworths'})"
      ],
      "metadata": {
        "id": "IrdZX6MoC40Z"
      },
      "execution_count": 29,
      "outputs": []
    },
    {
      "cell_type": "code",
      "source": [
        "print(transaction_data['BRAND'].value_counts())"
      ],
      "metadata": {
        "colab": {
          "base_uri": "https://localhost:8080/"
        },
        "id": "mWPBCWPxDd4K",
        "outputId": "948a6e61-ea8b-4529-83aa-8068fa64ae4b"
      },
      "execution_count": 30,
      "outputs": [
        {
          "output_type": "stream",
          "name": "stdout",
          "text": [
            "BRAND\n",
            "Kettle        41288\n",
            "Smith         30353\n",
            "Doritos       25224\n",
            "Pringles      25102\n",
            "RRD           16321\n",
            "Infuzions     14201\n",
            "Thins         14075\n",
            "Woolworths    11836\n",
            "Cobs           9693\n",
            "Tostitos       9471\n",
            "Twisties       9454\n",
            "Cheetos        7478\n",
            "Tyrrells       6442\n",
            "Grain          6272\n",
            "Natural        6050\n",
            "Cheezels       4603\n",
            "Sunbites       3008\n",
            "Burger         1564\n",
            "GrnWves        1468\n",
            "NCC            1419\n",
            "French         1418\n",
            "Name: count, dtype: int64\n"
          ]
        }
      ]
    },
    {
      "cell_type": "markdown",
      "source": [
        "## Customer_data"
      ],
      "metadata": {
        "id": "f6i2eWdbGRiv"
      }
    },
    {
      "cell_type": "code",
      "source": [
        "customer_data.head()"
      ],
      "metadata": {
        "colab": {
          "base_uri": "https://localhost:8080/",
          "height": 206
        },
        "id": "maf3zrhRG18A",
        "outputId": "aee3a2c6-14fd-46bf-9a16-4e677056c095"
      },
      "execution_count": 31,
      "outputs": [
        {
          "output_type": "execute_result",
          "data": {
            "text/plain": [
              "   LYLTY_CARD_NBR               LIFESTAGE PREMIUM_CUSTOMER\n",
              "0            1000   YOUNG SINGLES/COUPLES          Premium\n",
              "1            1002   YOUNG SINGLES/COUPLES       Mainstream\n",
              "2            1003          YOUNG FAMILIES           Budget\n",
              "3            1004   OLDER SINGLES/COUPLES       Mainstream\n",
              "4            1005  MIDAGE SINGLES/COUPLES       Mainstream"
            ],
            "text/html": [
              "\n",
              "  <div id=\"df-37e49385-8c20-4628-9ab4-abb59110ee43\" class=\"colab-df-container\">\n",
              "    <div>\n",
              "<style scoped>\n",
              "    .dataframe tbody tr th:only-of-type {\n",
              "        vertical-align: middle;\n",
              "    }\n",
              "\n",
              "    .dataframe tbody tr th {\n",
              "        vertical-align: top;\n",
              "    }\n",
              "\n",
              "    .dataframe thead th {\n",
              "        text-align: right;\n",
              "    }\n",
              "</style>\n",
              "<table border=\"1\" class=\"dataframe\">\n",
              "  <thead>\n",
              "    <tr style=\"text-align: right;\">\n",
              "      <th></th>\n",
              "      <th>LYLTY_CARD_NBR</th>\n",
              "      <th>LIFESTAGE</th>\n",
              "      <th>PREMIUM_CUSTOMER</th>\n",
              "    </tr>\n",
              "  </thead>\n",
              "  <tbody>\n",
              "    <tr>\n",
              "      <th>0</th>\n",
              "      <td>1000</td>\n",
              "      <td>YOUNG SINGLES/COUPLES</td>\n",
              "      <td>Premium</td>\n",
              "    </tr>\n",
              "    <tr>\n",
              "      <th>1</th>\n",
              "      <td>1002</td>\n",
              "      <td>YOUNG SINGLES/COUPLES</td>\n",
              "      <td>Mainstream</td>\n",
              "    </tr>\n",
              "    <tr>\n",
              "      <th>2</th>\n",
              "      <td>1003</td>\n",
              "      <td>YOUNG FAMILIES</td>\n",
              "      <td>Budget</td>\n",
              "    </tr>\n",
              "    <tr>\n",
              "      <th>3</th>\n",
              "      <td>1004</td>\n",
              "      <td>OLDER SINGLES/COUPLES</td>\n",
              "      <td>Mainstream</td>\n",
              "    </tr>\n",
              "    <tr>\n",
              "      <th>4</th>\n",
              "      <td>1005</td>\n",
              "      <td>MIDAGE SINGLES/COUPLES</td>\n",
              "      <td>Mainstream</td>\n",
              "    </tr>\n",
              "  </tbody>\n",
              "</table>\n",
              "</div>\n",
              "    <div class=\"colab-df-buttons\">\n",
              "\n",
              "  <div class=\"colab-df-container\">\n",
              "    <button class=\"colab-df-convert\" onclick=\"convertToInteractive('df-37e49385-8c20-4628-9ab4-abb59110ee43')\"\n",
              "            title=\"Convert this dataframe to an interactive table.\"\n",
              "            style=\"display:none;\">\n",
              "\n",
              "  <svg xmlns=\"http://www.w3.org/2000/svg\" height=\"24px\" viewBox=\"0 -960 960 960\">\n",
              "    <path d=\"M120-120v-720h720v720H120Zm60-500h600v-160H180v160Zm220 220h160v-160H400v160Zm0 220h160v-160H400v160ZM180-400h160v-160H180v160Zm440 0h160v-160H620v160ZM180-180h160v-160H180v160Zm440 0h160v-160H620v160Z\"/>\n",
              "  </svg>\n",
              "    </button>\n",
              "\n",
              "  <style>\n",
              "    .colab-df-container {\n",
              "      display:flex;\n",
              "      gap: 12px;\n",
              "    }\n",
              "\n",
              "    .colab-df-convert {\n",
              "      background-color: #E8F0FE;\n",
              "      border: none;\n",
              "      border-radius: 50%;\n",
              "      cursor: pointer;\n",
              "      display: none;\n",
              "      fill: #1967D2;\n",
              "      height: 32px;\n",
              "      padding: 0 0 0 0;\n",
              "      width: 32px;\n",
              "    }\n",
              "\n",
              "    .colab-df-convert:hover {\n",
              "      background-color: #E2EBFA;\n",
              "      box-shadow: 0px 1px 2px rgba(60, 64, 67, 0.3), 0px 1px 3px 1px rgba(60, 64, 67, 0.15);\n",
              "      fill: #174EA6;\n",
              "    }\n",
              "\n",
              "    .colab-df-buttons div {\n",
              "      margin-bottom: 4px;\n",
              "    }\n",
              "\n",
              "    [theme=dark] .colab-df-convert {\n",
              "      background-color: #3B4455;\n",
              "      fill: #D2E3FC;\n",
              "    }\n",
              "\n",
              "    [theme=dark] .colab-df-convert:hover {\n",
              "      background-color: #434B5C;\n",
              "      box-shadow: 0px 1px 3px 1px rgba(0, 0, 0, 0.15);\n",
              "      filter: drop-shadow(0px 1px 2px rgba(0, 0, 0, 0.3));\n",
              "      fill: #FFFFFF;\n",
              "    }\n",
              "  </style>\n",
              "\n",
              "    <script>\n",
              "      const buttonEl =\n",
              "        document.querySelector('#df-37e49385-8c20-4628-9ab4-abb59110ee43 button.colab-df-convert');\n",
              "      buttonEl.style.display =\n",
              "        google.colab.kernel.accessAllowed ? 'block' : 'none';\n",
              "\n",
              "      async function convertToInteractive(key) {\n",
              "        const element = document.querySelector('#df-37e49385-8c20-4628-9ab4-abb59110ee43');\n",
              "        const dataTable =\n",
              "          await google.colab.kernel.invokeFunction('convertToInteractive',\n",
              "                                                    [key], {});\n",
              "        if (!dataTable) return;\n",
              "\n",
              "        const docLinkHtml = 'Like what you see? Visit the ' +\n",
              "          '<a target=\"_blank\" href=https://colab.research.google.com/notebooks/data_table.ipynb>data table notebook</a>'\n",
              "          + ' to learn more about interactive tables.';\n",
              "        element.innerHTML = '';\n",
              "        dataTable['output_type'] = 'display_data';\n",
              "        await google.colab.output.renderOutput(dataTable, element);\n",
              "        const docLink = document.createElement('div');\n",
              "        docLink.innerHTML = docLinkHtml;\n",
              "        element.appendChild(docLink);\n",
              "      }\n",
              "    </script>\n",
              "  </div>\n",
              "\n",
              "\n",
              "<div id=\"df-0367950f-ff8d-4d98-ac7a-8b083118aaad\">\n",
              "  <button class=\"colab-df-quickchart\" onclick=\"quickchart('df-0367950f-ff8d-4d98-ac7a-8b083118aaad')\"\n",
              "            title=\"Suggest charts\"\n",
              "            style=\"display:none;\">\n",
              "\n",
              "<svg xmlns=\"http://www.w3.org/2000/svg\" height=\"24px\"viewBox=\"0 0 24 24\"\n",
              "     width=\"24px\">\n",
              "    <g>\n",
              "        <path d=\"M19 3H5c-1.1 0-2 .9-2 2v14c0 1.1.9 2 2 2h14c1.1 0 2-.9 2-2V5c0-1.1-.9-2-2-2zM9 17H7v-7h2v7zm4 0h-2V7h2v10zm4 0h-2v-4h2v4z\"/>\n",
              "    </g>\n",
              "</svg>\n",
              "  </button>\n",
              "\n",
              "<style>\n",
              "  .colab-df-quickchart {\n",
              "      --bg-color: #E8F0FE;\n",
              "      --fill-color: #1967D2;\n",
              "      --hover-bg-color: #E2EBFA;\n",
              "      --hover-fill-color: #174EA6;\n",
              "      --disabled-fill-color: #AAA;\n",
              "      --disabled-bg-color: #DDD;\n",
              "  }\n",
              "\n",
              "  [theme=dark] .colab-df-quickchart {\n",
              "      --bg-color: #3B4455;\n",
              "      --fill-color: #D2E3FC;\n",
              "      --hover-bg-color: #434B5C;\n",
              "      --hover-fill-color: #FFFFFF;\n",
              "      --disabled-bg-color: #3B4455;\n",
              "      --disabled-fill-color: #666;\n",
              "  }\n",
              "\n",
              "  .colab-df-quickchart {\n",
              "    background-color: var(--bg-color);\n",
              "    border: none;\n",
              "    border-radius: 50%;\n",
              "    cursor: pointer;\n",
              "    display: none;\n",
              "    fill: var(--fill-color);\n",
              "    height: 32px;\n",
              "    padding: 0;\n",
              "    width: 32px;\n",
              "  }\n",
              "\n",
              "  .colab-df-quickchart:hover {\n",
              "    background-color: var(--hover-bg-color);\n",
              "    box-shadow: 0 1px 2px rgba(60, 64, 67, 0.3), 0 1px 3px 1px rgba(60, 64, 67, 0.15);\n",
              "    fill: var(--button-hover-fill-color);\n",
              "  }\n",
              "\n",
              "  .colab-df-quickchart-complete:disabled,\n",
              "  .colab-df-quickchart-complete:disabled:hover {\n",
              "    background-color: var(--disabled-bg-color);\n",
              "    fill: var(--disabled-fill-color);\n",
              "    box-shadow: none;\n",
              "  }\n",
              "\n",
              "  .colab-df-spinner {\n",
              "    border: 2px solid var(--fill-color);\n",
              "    border-color: transparent;\n",
              "    border-bottom-color: var(--fill-color);\n",
              "    animation:\n",
              "      spin 1s steps(1) infinite;\n",
              "  }\n",
              "\n",
              "  @keyframes spin {\n",
              "    0% {\n",
              "      border-color: transparent;\n",
              "      border-bottom-color: var(--fill-color);\n",
              "      border-left-color: var(--fill-color);\n",
              "    }\n",
              "    20% {\n",
              "      border-color: transparent;\n",
              "      border-left-color: var(--fill-color);\n",
              "      border-top-color: var(--fill-color);\n",
              "    }\n",
              "    30% {\n",
              "      border-color: transparent;\n",
              "      border-left-color: var(--fill-color);\n",
              "      border-top-color: var(--fill-color);\n",
              "      border-right-color: var(--fill-color);\n",
              "    }\n",
              "    40% {\n",
              "      border-color: transparent;\n",
              "      border-right-color: var(--fill-color);\n",
              "      border-top-color: var(--fill-color);\n",
              "    }\n",
              "    60% {\n",
              "      border-color: transparent;\n",
              "      border-right-color: var(--fill-color);\n",
              "    }\n",
              "    80% {\n",
              "      border-color: transparent;\n",
              "      border-right-color: var(--fill-color);\n",
              "      border-bottom-color: var(--fill-color);\n",
              "    }\n",
              "    90% {\n",
              "      border-color: transparent;\n",
              "      border-bottom-color: var(--fill-color);\n",
              "    }\n",
              "  }\n",
              "</style>\n",
              "\n",
              "  <script>\n",
              "    async function quickchart(key) {\n",
              "      const quickchartButtonEl =\n",
              "        document.querySelector('#' + key + ' button');\n",
              "      quickchartButtonEl.disabled = true;  // To prevent multiple clicks.\n",
              "      quickchartButtonEl.classList.add('colab-df-spinner');\n",
              "      try {\n",
              "        const charts = await google.colab.kernel.invokeFunction(\n",
              "            'suggestCharts', [key], {});\n",
              "      } catch (error) {\n",
              "        console.error('Error during call to suggestCharts:', error);\n",
              "      }\n",
              "      quickchartButtonEl.classList.remove('colab-df-spinner');\n",
              "      quickchartButtonEl.classList.add('colab-df-quickchart-complete');\n",
              "    }\n",
              "    (() => {\n",
              "      let quickchartButtonEl =\n",
              "        document.querySelector('#df-0367950f-ff8d-4d98-ac7a-8b083118aaad button');\n",
              "      quickchartButtonEl.style.display =\n",
              "        google.colab.kernel.accessAllowed ? 'block' : 'none';\n",
              "    })();\n",
              "  </script>\n",
              "</div>\n",
              "\n",
              "    </div>\n",
              "  </div>\n"
            ],
            "application/vnd.google.colaboratory.intrinsic+json": {
              "type": "dataframe",
              "variable_name": "customer_data",
              "summary": "{\n  \"name\": \"customer_data\",\n  \"rows\": 72637,\n  \"fields\": [\n    {\n      \"column\": \"LYLTY_CARD_NBR\",\n      \"properties\": {\n        \"dtype\": \"number\",\n        \"std\": 89892,\n        \"min\": 1000,\n        \"max\": 2373711,\n        \"num_unique_values\": 72637,\n        \"samples\": [\n          34250,\n          224159,\n          107092\n        ],\n        \"semantic_type\": \"\",\n        \"description\": \"\"\n      }\n    },\n    {\n      \"column\": \"LIFESTAGE\",\n      \"properties\": {\n        \"dtype\": \"category\",\n        \"num_unique_values\": 7,\n        \"samples\": [\n          \"YOUNG SINGLES/COUPLES\",\n          \"YOUNG FAMILIES\",\n          \"OLDER FAMILIES\"\n        ],\n        \"semantic_type\": \"\",\n        \"description\": \"\"\n      }\n    },\n    {\n      \"column\": \"PREMIUM_CUSTOMER\",\n      \"properties\": {\n        \"dtype\": \"category\",\n        \"num_unique_values\": 3,\n        \"samples\": [\n          \"Premium\",\n          \"Mainstream\",\n          \"Budget\"\n        ],\n        \"semantic_type\": \"\",\n        \"description\": \"\"\n      }\n    }\n  ]\n}"
            }
          },
          "metadata": {},
          "execution_count": 31
        }
      ]
    },
    {
      "cell_type": "code",
      "source": [
        "customer_data.info()"
      ],
      "metadata": {
        "colab": {
          "base_uri": "https://localhost:8080/"
        },
        "id": "UcZwfzh4G9-c",
        "outputId": "8498b5a5-c07f-411d-d7de-f42a103b9518"
      },
      "execution_count": 32,
      "outputs": [
        {
          "output_type": "stream",
          "name": "stdout",
          "text": [
            "<class 'pandas.core.frame.DataFrame'>\n",
            "RangeIndex: 72637 entries, 0 to 72636\n",
            "Data columns (total 3 columns):\n",
            " #   Column            Non-Null Count  Dtype \n",
            "---  ------            --------------  ----- \n",
            " 0   LYLTY_CARD_NBR    72637 non-null  int64 \n",
            " 1   LIFESTAGE         72637 non-null  object\n",
            " 2   PREMIUM_CUSTOMER  72637 non-null  object\n",
            "dtypes: int64(1), object(2)\n",
            "memory usage: 1.7+ MB\n"
          ]
        }
      ]
    },
    {
      "cell_type": "markdown",
      "source": [
        "Пропусков нет"
      ],
      "metadata": {
        "id": "7Iggm17CNKlG"
      }
    },
    {
      "cell_type": "code",
      "source": [
        "customer_data['LIFESTAGE'].unique()"
      ],
      "metadata": {
        "colab": {
          "base_uri": "https://localhost:8080/"
        },
        "id": "IHMvOe-fG-Bc",
        "outputId": "c132981f-1961-432b-c835-5790eaf917a4"
      },
      "execution_count": 33,
      "outputs": [
        {
          "output_type": "execute_result",
          "data": {
            "text/plain": [
              "array(['YOUNG SINGLES/COUPLES', 'YOUNG FAMILIES', 'OLDER SINGLES/COUPLES',\n",
              "       'MIDAGE SINGLES/COUPLES', 'NEW FAMILIES', 'OLDER FAMILIES',\n",
              "       'RETIREES'], dtype=object)"
            ]
          },
          "metadata": {},
          "execution_count": 33
        }
      ]
    },
    {
      "cell_type": "code",
      "source": [
        "customer_data['PREMIUM_CUSTOMER'].unique()"
      ],
      "metadata": {
        "colab": {
          "base_uri": "https://localhost:8080/"
        },
        "id": "TPY53-rqHZOI",
        "outputId": "a483676c-8f3f-4859-c845-a008941df0b6"
      },
      "execution_count": 34,
      "outputs": [
        {
          "output_type": "execute_result",
          "data": {
            "text/plain": [
              "array(['Premium', 'Mainstream', 'Budget'], dtype=object)"
            ]
          },
          "metadata": {},
          "execution_count": 34
        }
      ]
    },
    {
      "cell_type": "code",
      "source": [
        "# Statistics\n",
        "print(customer_data.describe(include='all'))"
      ],
      "metadata": {
        "colab": {
          "base_uri": "https://localhost:8080/"
        },
        "id": "MmtytYmbGlmg",
        "outputId": "3bf4f519-674f-49aa-d3bd-b3cc22bc7bf3"
      },
      "execution_count": 35,
      "outputs": [
        {
          "output_type": "stream",
          "name": "stdout",
          "text": [
            "        LYLTY_CARD_NBR LIFESTAGE PREMIUM_CUSTOMER\n",
            "count     7.263700e+04     72637            72637\n",
            "unique             NaN         7                3\n",
            "top                NaN  RETIREES       Mainstream\n",
            "freq               NaN     14805            29245\n",
            "mean      1.361859e+05       NaN              NaN\n",
            "std       8.989293e+04       NaN              NaN\n",
            "min       1.000000e+03       NaN              NaN\n",
            "25%       6.620200e+04       NaN              NaN\n",
            "50%       1.340400e+05       NaN              NaN\n",
            "75%       2.033750e+05       NaN              NaN\n",
            "max       2.373711e+06       NaN              NaN\n"
          ]
        }
      ]
    },
    {
      "cell_type": "code",
      "source": [
        "# Histogram by LIFESTAGE\n",
        "plt.figure(figsize=(12, 5))\n",
        "sns.countplot(data=customer_data, x='LIFESTAGE', order=customer_data['LIFESTAGE'].value_counts().index)\n",
        "plt.xticks(rotation=45)\n",
        "plt.title('Distribution of customers by LIFESTAGE')\n",
        "plt.xlabel('Lifestage')\n",
        "plt.ylabel('Number of customers')\n",
        "plt.show()"
      ],
      "metadata": {
        "colab": {
          "base_uri": "https://localhost:8080/",
          "height": 616
        },
        "id": "WjWRAhm5GlpW",
        "outputId": "e6ea6fd3-9938-404a-9a55-98e6c7df0146"
      },
      "execution_count": 36,
      "outputs": [
        {
          "output_type": "display_data",
          "data": {
            "text/plain": [
              "<Figure size 1200x500 with 1 Axes>"
            ],
            "image/png": "[encoded data removed]"
          },
          "metadata": {}
        }
      ]
    },
    {
      "cell_type": "code",
      "source": [
        "# Histogram by PREMIUM_CUSTOMER\n",
        "plt.figure(figsize=(8, 5))\n",
        "sns.countplot(data=customer_data, x='PREMIUM_CUSTOMER', order=customer_data['PREMIUM_CUSTOMER'].value_counts().index)\n",
        "plt.title('Histogram by PREMIUM_CUSTOMER')\n",
        "plt.xlabel('PREMIUM_CUSTOMER')\n",
        "plt.ylabel('Number of customers')\n",
        "plt.show()"
      ],
      "metadata": {
        "colab": {
          "base_uri": "https://localhost:8080/",
          "height": 487
        },
        "id": "oxyFiZoRGlsK",
        "outputId": "164c263d-e9b4-455d-dedf-1e3ba7ff3b2a"
      },
      "execution_count": 37,
      "outputs": [
        {
          "output_type": "display_data",
          "data": {
            "text/plain": [
              "<Figure size 800x500 with 1 Axes>"
            ],
            "image/png": "[encoded data removed]"
          },
          "metadata": {}
        }
      ]
    },
    {
      "cell_type": "markdown",
      "source": [
        "## Merging tables"
      ],
      "metadata": {
        "id": "1kKjEv8IGmqo"
      }
    },
    {
      "cell_type": "code",
      "source": [
        "# Merging tables\n",
        "merged_data = transaction_data.merge(customer_data, on='LYLTY_CARD_NBR', how='left')\n",
        "\n",
        "# Checking for missing values\n",
        "print(merged_data.isna().sum())"
      ],
      "metadata": {
        "colab": {
          "base_uri": "https://localhost:8080/"
        },
        "id": "3mb1UE1yeEic",
        "outputId": "a1d46852-427d-45bf-b408-7a35b3e7e07a"
      },
      "execution_count": 38,
      "outputs": [
        {
          "output_type": "stream",
          "name": "stdout",
          "text": [
            "DATE                0\n",
            "STORE_NBR           0\n",
            "LYLTY_CARD_NBR      0\n",
            "TXN_ID              0\n",
            "PROD_NBR            0\n",
            "PROD_NAME           0\n",
            "PROD_QTY            0\n",
            "TOT_SALES           0\n",
            "PACK_SIZE           0\n",
            "BRAND               0\n",
            "LIFESTAGE           0\n",
            "PREMIUM_CUSTOMER    0\n",
            "dtype: int64\n"
          ]
        }
      ]
    },
    {
      "cell_type": "code",
      "source": [
        "# Check the dataset for duplicates\n",
        "merged_data.duplicated().sum()"
      ],
      "metadata": {
        "id": "Dmvf0hxceEko",
        "colab": {
          "base_uri": "https://localhost:8080/"
        },
        "outputId": "a1fe8707-7342-4d65-b334-1c284bd53648"
      },
      "execution_count": 39,
      "outputs": [
        {
          "output_type": "execute_result",
          "data": {
            "text/plain": [
              "1"
            ]
          },
          "metadata": {},
          "execution_count": 39
        }
      ]
    },
    {
      "cell_type": "code",
      "source": [
        "# Remove duplicates\n",
        "merged_data = merged_data.drop_duplicates()"
      ],
      "metadata": {
        "id": "jCxLAkdMOEXf"
      },
      "execution_count": 40,
      "outputs": []
    },
    {
      "cell_type": "code",
      "source": [
        "merged_data.duplicated().sum()"
      ],
      "metadata": {
        "colab": {
          "base_uri": "https://localhost:8080/"
        },
        "id": "xUxX8zDhOUTI",
        "outputId": "890f9d41-566d-4dd8-a231-c2de00e642e6"
      },
      "execution_count": 41,
      "outputs": [
        {
          "output_type": "execute_result",
          "data": {
            "text/plain": [
              "0"
            ]
          },
          "metadata": {},
          "execution_count": 41
        }
      ]
    },
    {
      "cell_type": "code",
      "source": [
        "# Saving the DataFrame to a CSV file\n",
        "merged_data.to_csv(\"dataset.csv\", index=False)"
      ],
      "metadata": {
        "id": "a5KBFkB0O8af"
      },
      "execution_count": 42,
      "outputs": []
    },
    {
      "cell_type": "markdown",
      "source": [
        "## Data analysis on customer segments"
      ],
      "metadata": {
        "id": "K3Ql60ITPMIG"
      }
    },
    {
      "cell_type": "markdown",
      "source": [
        "Now that the data is ready for analysis, we can define some metrics of interest to\n",
        "the client:\n",
        "- Who spends the most on chips (total sales), describing customers by lifestage and\n",
        "how premium their general purchasing behaviour is\n",
        "- How many customers are in each segment\n",
        "- How many chips are bought per customer by segment\n",
        "- What's the average chip price by customer segment\n",
        "We could also ask our data team for more information. Examples are:\n",
        "- The customer's total spend over the period and total spend for each transaction\n",
        "to understand what proportion of their grocery spend is on chips\n",
        "- Proportion of customers in each customer segment overall to compare against the\n",
        "mix of customers who purchase chips\n",
        "\n",
        "Let's start with calculating total sales by LIFESTAGE and PREMIUM_CUSTOMER and\n",
        "plotting the split by these segments to describe which customer segment contribute\n",
        "most to chip sales."
      ],
      "metadata": {
        "id": "DjgCqmQ9PaGD"
      }
    },
    {
      "cell_type": "code",
      "source": [
        "# Sales Analysis by Segments\n",
        "sales_by_segment = merged_data.groupby(['LIFESTAGE', 'PREMIUM_CUSTOMER'])['TOT_SALES'].sum().unstack()\n",
        "sales_by_segment.plot(kind='bar', figsize=(12, 6))\n",
        "plt.title(\"Total Sales by Customer Segment\")\n",
        "plt.show()"
      ],
      "metadata": {
        "colab": {
          "base_uri": "https://localhost:8080/",
          "height": 738
        },
        "id": "LIlBVZGLeEnO",
        "outputId": "db8e633b-4011-4d23-fa53-efaede4ee870"
      },
      "execution_count": 43,
      "outputs": [
        {
          "output_type": "display_data",
          "data": {
            "text/plain": [
              "<Figure size 1200x600 with 1 Axes>"
            ],
            "image/png": "[encoded data removed]"
          },
          "metadata": {}
        }
      ]
    },
    {
      "cell_type": "markdown",
      "source": [
        "Sales are coming mainly from Budget - older families, Mainstream - young\n",
        "singles/couples, and Mainstream - retirees.\n",
        "\n",
        "Let's see if the higher sales are due to there being more customers who buy chips."
      ],
      "metadata": {
        "id": "BkMscj9aQtVr"
      }
    },
    {
      "cell_type": "code",
      "source": [
        "customer_summary = merged_data.groupby(['LIFESTAGE', 'PREMIUM_CUSTOMER'])['LYLTY_CARD_NBR'].nunique().reset_index()\n",
        "\n",
        "customer_summary.columns = ['LIFESTAGE', 'PREMIUM_CUSTOMER', 'NUM_CUSTOMERS']\n",
        "\n",
        "plt.figure(figsize=(12, 6))\n",
        "sns.barplot(x='NUM_CUSTOMERS', y='LIFESTAGE', hue='PREMIUM_CUSTOMER', data=customer_summary)\n",
        "plt.title('Number of Customers by Lifestage and Premium Customer Status')\n",
        "plt.xlabel('Number of Customers')\n",
        "plt.ylabel('Lifestage')\n",
        "plt.legend(title='Premium Customer')\n",
        "plt.show()"
      ],
      "metadata": {
        "colab": {
          "base_uri": "https://localhost:8080/",
          "height": 564
        },
        "id": "tReWr8sDR453",
        "outputId": "829e1283-bf20-4466-9da5-5633e979f8d4"
      },
      "execution_count": 44,
      "outputs": [
        {
          "output_type": "display_data",
          "data": {
            "text/plain": [
              "<Figure size 1200x600 with 1 Axes>"
            ],
            "image/png": "[encoded data removed]"
          },
          "metadata": {}
        }
      ]
    },
    {
      "cell_type": "markdown",
      "source": [
        "Sales are coming mainly from Budget - older families, Mainstream - young\n",
        "singles/couples, and Mainstream - retirees\n",
        "Let's see if the higher sales are due to there being more customers who buy chips."
      ],
      "metadata": {
        "id": "HMJJuPawSDFq"
      }
    },
    {
      "cell_type": "code",
      "source": [
        "# Analysis of the Average Number of Units per Customer\n",
        "units_per_customer = merged_data.groupby(['LIFESTAGE', 'PREMIUM_CUSTOMER'])['PROD_QTY'].mean().unstack()\n",
        "units_per_customer.plot(kind='bar', figsize=(12, 6))\n",
        "plt.title(\"Average Units Per Customer\")\n",
        "plt.show()\n"
      ],
      "metadata": {
        "colab": {
          "base_uri": "https://localhost:8080/",
          "height": 738
        },
        "id": "NQOhvUQieEpk",
        "outputId": "4db16b58-74cb-4854-d406-3534e2a100f6"
      },
      "execution_count": 45,
      "outputs": [
        {
          "output_type": "display_data",
          "data": {
            "text/plain": [
              "<Figure size 1200x600 with 1 Axes>"
            ],
            "image/png": "[encoded data removed]"
          },
          "metadata": {}
        }
      ]
    },
    {
      "cell_type": "code",
      "source": [
        "# Average Price Per Unit\n",
        "price_per_unit = merged_data.groupby(['LIFESTAGE', 'PREMIUM_CUSTOMER'])['TOT_SALES'].sum() / merged_data.groupby(['LIFESTAGE', 'PREMIUM_CUSTOMER'])['PROD_QTY'].sum()\n",
        "price_per_unit.unstack().plot(kind='bar', figsize=(12, 6))\n",
        "plt.title(\"Average Price Per Unit\")\n",
        "plt.show()"
      ],
      "metadata": {
        "colab": {
          "base_uri": "https://localhost:8080/",
          "height": 738
        },
        "id": "NXQC8fZ0eEsE",
        "outputId": "2fb1eeab-34da-4f22-aa89-00b6ec8f0395"
      },
      "execution_count": 46,
      "outputs": [
        {
          "output_type": "display_data",
          "data": {
            "text/plain": [
              "<Figure size 1200x600 with 1 Axes>"
            ],
            "image/png": "[encoded data removed]"
          },
          "metadata": {}
        }
      ]
    },
    {
      "cell_type": "markdown",
      "source": [
        "Mainstream midage and young singles and couples are more willing to pay more per\n",
        "packet of chips compared to their budget and premium counterparts. This may be due\n",
        "to premium shoppers being more likely to buy healthy snacks and when they buy\n",
        "chips, this is mainly for entertainment purposes rather than their own consumption.\n",
        "This is also supported by there being fewer premium midage and young singles and\n",
        "couples buying chips compared to their mainstream counterparts.\n",
        "As the difference in average price per unit isn't large, we can check if this difference is statistically different."
      ],
      "metadata": {
        "id": "4SNUzD-ZPcju"
      }
    },
    {
      "cell_type": "code",
      "source": [
        "# T-test\n",
        "mainstream_prices = merged_data[merged_data['PREMIUM_CUSTOMER'] == 'Mainstream']['TOT_SALES'] / merged_data[merged_data['PREMIUM_CUSTOMER'] == 'Mainstream']['PROD_QTY']\n",
        "premium_prices = merged_data[merged_data['PREMIUM_CUSTOMER'] == 'Premium']['TOT_SALES'] / merged_data[merged_data['PREMIUM_CUSTOMER'] == 'Premium']['PROD_QTY']\n",
        "t_stat, p_value = stats.ttest_ind(mainstream_prices, premium_prices, equal_var=False)\n",
        "print(f\"T-test p-value: {p_value}\")"
      ],
      "metadata": {
        "id": "tpNzpANPeEul",
        "colab": {
          "base_uri": "https://localhost:8080/"
        },
        "outputId": "407cd0bf-16b8-4d91-b114-4796766fa3ab"
      },
      "execution_count": 47,
      "outputs": [
        {
          "output_type": "stream",
          "name": "stdout",
          "text": [
            "T-test p-value: 2.1341577623239627e-28\n"
          ]
        }
      ]
    },
    {
      "cell_type": "markdown",
      "source": [
        "A p-value of 2.13 × 10⁻²⁸ (very small) means that the difference in average unit price between mainstream young/mid-age singles and couples and budget/premium young/mid-age singles and couples is statistically significant.\n",
        "\n",
        "In other words, we can confidently reject the null hypothesis that the average unit price is the same for all these groups. This indicates that mainstream young and mid-age singles/couples indeed buy chips at a higher price compared to their budget and premium counterparts."
      ],
      "metadata": {
        "id": "DkM9Cm9wdLyD"
      }
    },
    {
      "cell_type": "markdown",
      "source": [
        "## Deep dive into Mainstream, young singles/couples"
      ],
      "metadata": {
        "id": "lQ3_8yJOearx"
      }
    },
    {
      "cell_type": "code",
      "source": [
        "!pip install mlxtend"
      ],
      "metadata": {
        "id": "fA2W5Ud4eExJ",
        "colab": {
          "base_uri": "https://localhost:8080/"
        },
        "outputId": "61a3ba43-8d4f-411d-fb0a-e7b23930d32e"
      },
      "execution_count": 48,
      "outputs": [
        {
          "output_type": "stream",
          "name": "stdout",
          "text": [
            "Requirement already satisfied: mlxtend in /usr/local/lib/python3.11/dist-packages (0.23.4)\n",
            "Requirement already satisfied: scipy>=1.2.1 in /usr/local/lib/python3.11/dist-packages (from mlxtend) (1.13.1)\n",
            "Requirement already satisfied: numpy>=1.16.2 in /usr/local/lib/python3.11/dist-packages (from mlxtend) (1.26.4)\n",
            "Requirement already satisfied: pandas>=0.24.2 in /usr/local/lib/python3.11/dist-packages (from mlxtend) (2.2.2)\n",
            "Requirement already satisfied: scikit-learn>=1.3.1 in /usr/local/lib/python3.11/dist-packages (from mlxtend) (1.6.1)\n",
            "Requirement already satisfied: matplotlib>=3.0.0 in /usr/local/lib/python3.11/dist-packages (from mlxtend) (3.10.0)\n",
            "Requirement already satisfied: joblib>=0.13.2 in /usr/local/lib/python3.11/dist-packages (from mlxtend) (1.4.2)\n",
            "Requirement already satisfied: contourpy>=1.0.1 in /usr/local/lib/python3.11/dist-packages (from matplotlib>=3.0.0->mlxtend) (1.3.1)\n",
            "Requirement already satisfied: cycler>=0.10 in /usr/local/lib/python3.11/dist-packages (from matplotlib>=3.0.0->mlxtend) (0.12.1)\n",
            "Requirement already satisfied: fonttools>=4.22.0 in /usr/local/lib/python3.11/dist-packages (from matplotlib>=3.0.0->mlxtend) (4.56.0)\n",
            "Requirement already satisfied: kiwisolver>=1.3.1 in /usr/local/lib/python3.11/dist-packages (from matplotlib>=3.0.0->mlxtend) (1.4.8)\n",
            "Requirement already satisfied: packaging>=20.0 in /usr/local/lib/python3.11/dist-packages (from matplotlib>=3.0.0->mlxtend) (24.2)\n",
            "Requirement already satisfied: pillow>=8 in /usr/local/lib/python3.11/dist-packages (from matplotlib>=3.0.0->mlxtend) (11.1.0)\n",
            "Requirement already satisfied: pyparsing>=2.3.1 in /usr/local/lib/python3.11/dist-packages (from matplotlib>=3.0.0->mlxtend) (3.2.1)\n",
            "Requirement already satisfied: python-dateutil>=2.7 in /usr/local/lib/python3.11/dist-packages (from matplotlib>=3.0.0->mlxtend) (2.8.2)\n",
            "Requirement already satisfied: pytz>=2020.1 in /usr/local/lib/python3.11/dist-packages (from pandas>=0.24.2->mlxtend) (2025.1)\n",
            "Requirement already satisfied: tzdata>=2022.7 in /usr/local/lib/python3.11/dist-packages (from pandas>=0.24.2->mlxtend) (2025.1)\n",
            "Requirement already satisfied: threadpoolctl>=3.1.0 in /usr/local/lib/python3.11/dist-packages (from scikit-learn>=1.3.1->mlxtend) (3.5.0)\n",
            "Requirement already satisfied: six>=1.5 in /usr/local/lib/python3.11/dist-packages (from python-dateutil>=2.7->matplotlib>=3.0.0->mlxtend) (1.17.0)\n"
          ]
        }
      ]
    },
    {
      "cell_type": "code",
      "source": [
        "merged_data.head()"
      ],
      "metadata": {
        "colab": {
          "base_uri": "https://localhost:8080/",
          "height": 206
        },
        "id": "H99X7g36e5Pz",
        "outputId": "4cd17150-ea32-4f90-e86e-9e95098784d2"
      },
      "execution_count": 49,
      "outputs": [
        {
          "output_type": "execute_result",
          "data": {
            "text/plain": [
              "        DATE  STORE_NBR  LYLTY_CARD_NBR  TXN_ID  PROD_NBR  \\\n",
              "0 2018-10-17          1            1000       1         5   \n",
              "1 2019-05-14          1            1307     348        66   \n",
              "2 2019-05-20          1            1343     383        61   \n",
              "3 2018-08-17          2            2373     974        69   \n",
              "4 2018-08-18          2            2426    1038       108   \n",
              "\n",
              "                                  PROD_NAME  PROD_QTY  TOT_SALES  PACK_SIZE  \\\n",
              "0    Natural Chip        Compny SeaSalt175g         2        6.0      175.0   \n",
              "1                  CCs Nacho Cheese    175g         3        6.3      175.0   \n",
              "2    Smiths Crinkle Cut  Chips Chicken 170g         2        2.9      170.0   \n",
              "3    Smiths Chip Thinly  S/Cream&Onion 175g         5       15.0      175.0   \n",
              "4  Kettle Tortilla ChpsHny&Jlpno Chili 150g         3       13.8      150.0   \n",
              "\n",
              "     BRAND               LIFESTAGE PREMIUM_CUSTOMER  \n",
              "0  Natural   YOUNG SINGLES/COUPLES          Premium  \n",
              "1  Cheetos  MIDAGE SINGLES/COUPLES           Budget  \n",
              "2    Smith  MIDAGE SINGLES/COUPLES           Budget  \n",
              "3    Smith  MIDAGE SINGLES/COUPLES           Budget  \n",
              "4   Kettle  MIDAGE SINGLES/COUPLES           Budget  "
            ],
            "text/html": [
              "\n",
              "  <div id=\"df-14b42b8f-f2ce-4c1f-a2f0-4aee6e4799c2\" class=\"colab-df-container\">\n",
              "    <div>\n",
              "<style scoped>\n",
              "    .dataframe tbody tr th:only-of-type {\n",
              "        vertical-align: middle;\n",
              "    }\n",
              "\n",
              "    .dataframe tbody tr th {\n",
              "        vertical-align: top;\n",
              "    }\n",
              "\n",
              "    .dataframe thead th {\n",
              "        text-align: right;\n",
              "    }\n",
              "</style>\n",
              "<table border=\"1\" class=\"dataframe\">\n",
              "  <thead>\n",
              "    <tr style=\"text-align: right;\">\n",
              "      <th></th>\n",
              "      <th>DATE</th>\n",
              "      <th>STORE_NBR</th>\n",
              "      <th>LYLTY_CARD_NBR</th>\n",
              "      <th>TXN_ID</th>\n",
              "      <th>PROD_NBR</th>\n",
              "      <th>PROD_NAME</th>\n",
              "      <th>PROD_QTY</th>\n",
              "      <th>TOT_SALES</th>\n",
              "      <th>PACK_SIZE</th>\n",
              "      <th>BRAND</th>\n",
              "      <th>LIFESTAGE</th>\n",
              "      <th>PREMIUM_CUSTOMER</th>\n",
              "    </tr>\n",
              "  </thead>\n",
              "  <tbody>\n",
              "    <tr>\n",
              "      <th>0</th>\n",
              "      <td>2018-10-17</td>\n",
              "      <td>1</td>\n",
              "      <td>1000</td>\n",
              "      <td>1</td>\n",
              "      <td>5</td>\n",
              "      <td>Natural Chip        Compny SeaSalt175g</td>\n",
              "      <td>2</td>\n",
              "      <td>6.0</td>\n",
              "      <td>175.0</td>\n",
              "      <td>Natural</td>\n",
              "      <td>YOUNG SINGLES/COUPLES</td>\n",
              "      <td>Premium</td>\n",
              "    </tr>\n",
              "    <tr>\n",
              "      <th>1</th>\n",
              "      <td>2019-05-14</td>\n",
              "      <td>1</td>\n",
              "      <td>1307</td>\n",
              "      <td>348</td>\n",
              "      <td>66</td>\n",
              "      <td>CCs Nacho Cheese    175g</td>\n",
              "      <td>3</td>\n",
              "      <td>6.3</td>\n",
              "      <td>175.0</td>\n",
              "      <td>Cheetos</td>\n",
              "      <td>MIDAGE SINGLES/COUPLES</td>\n",
              "      <td>Budget</td>\n",
              "    </tr>\n",
              "    <tr>\n",
              "      <th>2</th>\n",
              "      <td>2019-05-20</td>\n",
              "      <td>1</td>\n",
              "      <td>1343</td>\n",
              "      <td>383</td>\n",
              "      <td>61</td>\n",
              "      <td>Smiths Crinkle Cut  Chips Chicken 170g</td>\n",
              "      <td>2</td>\n",
              "      <td>2.9</td>\n",
              "      <td>170.0</td>\n",
              "      <td>Smith</td>\n",
              "      <td>MIDAGE SINGLES/COUPLES</td>\n",
              "      <td>Budget</td>\n",
              "    </tr>\n",
              "    <tr>\n",
              "      <th>3</th>\n",
              "      <td>2018-08-17</td>\n",
              "      <td>2</td>\n",
              "      <td>2373</td>\n",
              "      <td>974</td>\n",
              "      <td>69</td>\n",
              "      <td>Smiths Chip Thinly  S/Cream&amp;Onion 175g</td>\n",
              "      <td>5</td>\n",
              "      <td>15.0</td>\n",
              "      <td>175.0</td>\n",
              "      <td>Smith</td>\n",
              "      <td>MIDAGE SINGLES/COUPLES</td>\n",
              "      <td>Budget</td>\n",
              "    </tr>\n",
              "    <tr>\n",
              "      <th>4</th>\n",
              "      <td>2018-08-18</td>\n",
              "      <td>2</td>\n",
              "      <td>2426</td>\n",
              "      <td>1038</td>\n",
              "      <td>108</td>\n",
              "      <td>Kettle Tortilla ChpsHny&amp;Jlpno Chili 150g</td>\n",
              "      <td>3</td>\n",
              "      <td>13.8</td>\n",
              "      <td>150.0</td>\n",
              "      <td>Kettle</td>\n",
              "      <td>MIDAGE SINGLES/COUPLES</td>\n",
              "      <td>Budget</td>\n",
              "    </tr>\n",
              "  </tbody>\n",
              "</table>\n",
              "</div>\n",
              "    <div class=\"colab-df-buttons\">\n",
              "\n",
              "  <div class=\"colab-df-container\">\n",
              "    <button class=\"colab-df-convert\" onclick=\"convertToInteractive('df-14b42b8f-f2ce-4c1f-a2f0-4aee6e4799c2')\"\n",
              "            title=\"Convert this dataframe to an interactive table.\"\n",
              "            style=\"display:none;\">\n",
              "\n",
              "  <svg xmlns=\"http://www.w3.org/2000/svg\" height=\"24px\" viewBox=\"0 -960 960 960\">\n",
              "    <path d=\"M120-120v-720h720v720H120Zm60-500h600v-160H180v160Zm220 220h160v-160H400v160Zm0 220h160v-160H400v160ZM180-400h160v-160H180v160Zm440 0h160v-160H620v160ZM180-180h160v-160H180v160Zm440 0h160v-160H620v160Z\"/>\n",
              "  </svg>\n",
              "    </button>\n",
              "\n",
              "  <style>\n",
              "    .colab-df-container {\n",
              "      display:flex;\n",
              "      gap: 12px;\n",
              "    }\n",
              "\n",
              "    .colab-df-convert {\n",
              "      background-color: #E8F0FE;\n",
              "      border: none;\n",
              "      border-radius: 50%;\n",
              "      cursor: pointer;\n",
              "      display: none;\n",
              "      fill: #1967D2;\n",
              "      height: 32px;\n",
              "      padding: 0 0 0 0;\n",
              "      width: 32px;\n",
              "    }\n",
              "\n",
              "    .colab-df-convert:hover {\n",
              "      background-color: #E2EBFA;\n",
              "      box-shadow: 0px 1px 2px rgba(60, 64, 67, 0.3), 0px 1px 3px 1px rgba(60, 64, 67, 0.15);\n",
              "      fill: #174EA6;\n",
              "    }\n",
              "\n",
              "    .colab-df-buttons div {\n",
              "      margin-bottom: 4px;\n",
              "    }\n",
              "\n",
              "    [theme=dark] .colab-df-convert {\n",
              "      background-color: #3B4455;\n",
              "      fill: #D2E3FC;\n",
              "    }\n",
              "\n",
              "    [theme=dark] .colab-df-convert:hover {\n",
              "      background-color: #434B5C;\n",
              "      box-shadow: 0px 1px 3px 1px rgba(0, 0, 0, 0.15);\n",
              "      filter: drop-shadow(0px 1px 2px rgba(0, 0, 0, 0.3));\n",
              "      fill: #FFFFFF;\n",
              "    }\n",
              "  </style>\n",
              "\n",
              "    <script>\n",
              "      const buttonEl =\n",
              "        document.querySelector('#df-14b42b8f-f2ce-4c1f-a2f0-4aee6e4799c2 button.colab-df-convert');\n",
              "      buttonEl.style.display =\n",
              "        google.colab.kernel.accessAllowed ? 'block' : 'none';\n",
              "\n",
              "      async function convertToInteractive(key) {\n",
              "        const element = document.querySelector('#df-14b42b8f-f2ce-4c1f-a2f0-4aee6e4799c2');\n",
              "        const dataTable =\n",
              "          await google.colab.kernel.invokeFunction('convertToInteractive',\n",
              "                                                    [key], {});\n",
              "        if (!dataTable) return;\n",
              "\n",
              "        const docLinkHtml = 'Like what you see? Visit the ' +\n",
              "          '<a target=\"_blank\" href=https://colab.research.google.com/notebooks/data_table.ipynb>data table notebook</a>'\n",
              "          + ' to learn more about interactive tables.';\n",
              "        element.innerHTML = '';\n",
              "        dataTable['output_type'] = 'display_data';\n",
              "        await google.colab.output.renderOutput(dataTable, element);\n",
              "        const docLink = document.createElement('div');\n",
              "        docLink.innerHTML = docLinkHtml;\n",
              "        element.appendChild(docLink);\n",
              "      }\n",
              "    </script>\n",
              "  </div>\n",
              "\n",
              "\n",
              "<div id=\"df-44d033c1-cff0-4d7d-9893-424b69b56ffe\">\n",
              "  <button class=\"colab-df-quickchart\" onclick=\"quickchart('df-44d033c1-cff0-4d7d-9893-424b69b56ffe')\"\n",
              "            title=\"Suggest charts\"\n",
              "            style=\"display:none;\">\n",
              "\n",
              "<svg xmlns=\"http://www.w3.org/2000/svg\" height=\"24px\"viewBox=\"0 0 24 24\"\n",
              "     width=\"24px\">\n",
              "    <g>\n",
              "        <path d=\"M19 3H5c-1.1 0-2 .9-2 2v14c0 1.1.9 2 2 2h14c1.1 0 2-.9 2-2V5c0-1.1-.9-2-2-2zM9 17H7v-7h2v7zm4 0h-2V7h2v10zm4 0h-2v-4h2v4z\"/>\n",
              "    </g>\n",
              "</svg>\n",
              "  </button>\n",
              "\n",
              "<style>\n",
              "  .colab-df-quickchart {\n",
              "      --bg-color: #E8F0FE;\n",
              "      --fill-color: #1967D2;\n",
              "      --hover-bg-color: #E2EBFA;\n",
              "      --hover-fill-color: #174EA6;\n",
              "      --disabled-fill-color: #AAA;\n",
              "      --disabled-bg-color: #DDD;\n",
              "  }\n",
              "\n",
              "  [theme=dark] .colab-df-quickchart {\n",
              "      --bg-color: #3B4455;\n",
              "      --fill-color: #D2E3FC;\n",
              "      --hover-bg-color: #434B5C;\n",
              "      --hover-fill-color: #FFFFFF;\n",
              "      --disabled-bg-color: #3B4455;\n",
              "      --disabled-fill-color: #666;\n",
              "  }\n",
              "\n",
              "  .colab-df-quickchart {\n",
              "    background-color: var(--bg-color);\n",
              "    border: none;\n",
              "    border-radius: 50%;\n",
              "    cursor: pointer;\n",
              "    display: none;\n",
              "    fill: var(--fill-color);\n",
              "    height: 32px;\n",
              "    padding: 0;\n",
              "    width: 32px;\n",
              "  }\n",
              "\n",
              "  .colab-df-quickchart:hover {\n",
              "    background-color: var(--hover-bg-color);\n",
              "    box-shadow: 0 1px 2px rgba(60, 64, 67, 0.3), 0 1px 3px 1px rgba(60, 64, 67, 0.15);\n",
              "    fill: var(--button-hover-fill-color);\n",
              "  }\n",
              "\n",
              "  .colab-df-quickchart-complete:disabled,\n",
              "  .colab-df-quickchart-complete:disabled:hover {\n",
              "    background-color: var(--disabled-bg-color);\n",
              "    fill: var(--disabled-fill-color);\n",
              "    box-shadow: none;\n",
              "  }\n",
              "\n",
              "  .colab-df-spinner {\n",
              "    border: 2px solid var(--fill-color);\n",
              "    border-color: transparent;\n",
              "    border-bottom-color: var(--fill-color);\n",
              "    animation:\n",
              "      spin 1s steps(1) infinite;\n",
              "  }\n",
              "\n",
              "  @keyframes spin {\n",
              "    0% {\n",
              "      border-color: transparent;\n",
              "      border-bottom-color: var(--fill-color);\n",
              "      border-left-color: var(--fill-color);\n",
              "    }\n",
              "    20% {\n",
              "      border-color: transparent;\n",
              "      border-left-color: var(--fill-color);\n",
              "      border-top-color: var(--fill-color);\n",
              "    }\n",
              "    30% {\n",
              "      border-color: transparent;\n",
              "      border-left-color: var(--fill-color);\n",
              "      border-top-color: var(--fill-color);\n",
              "      border-right-color: var(--fill-color);\n",
              "    }\n",
              "    40% {\n",
              "      border-color: transparent;\n",
              "      border-right-color: var(--fill-color);\n",
              "      border-top-color: var(--fill-color);\n",
              "    }\n",
              "    60% {\n",
              "      border-color: transparent;\n",
              "      border-right-color: var(--fill-color);\n",
              "    }\n",
              "    80% {\n",
              "      border-color: transparent;\n",
              "      border-right-color: var(--fill-color);\n",
              "      border-bottom-color: var(--fill-color);\n",
              "    }\n",
              "    90% {\n",
              "      border-color: transparent;\n",
              "      border-bottom-color: var(--fill-color);\n",
              "    }\n",
              "  }\n",
              "</style>\n",
              "\n",
              "  <script>\n",
              "    async function quickchart(key) {\n",
              "      const quickchartButtonEl =\n",
              "        document.querySelector('#' + key + ' button');\n",
              "      quickchartButtonEl.disabled = true;  // To prevent multiple clicks.\n",
              "      quickchartButtonEl.classList.add('colab-df-spinner');\n",
              "      try {\n",
              "        const charts = await google.colab.kernel.invokeFunction(\n",
              "            'suggestCharts', [key], {});\n",
              "      } catch (error) {\n",
              "        console.error('Error during call to suggestCharts:', error);\n",
              "      }\n",
              "      quickchartButtonEl.classList.remove('colab-df-spinner');\n",
              "      quickchartButtonEl.classList.add('colab-df-quickchart-complete');\n",
              "    }\n",
              "    (() => {\n",
              "      let quickchartButtonEl =\n",
              "        document.querySelector('#df-44d033c1-cff0-4d7d-9893-424b69b56ffe button');\n",
              "      quickchartButtonEl.style.display =\n",
              "        google.colab.kernel.accessAllowed ? 'block' : 'none';\n",
              "    })();\n",
              "  </script>\n",
              "</div>\n",
              "\n",
              "    </div>\n",
              "  </div>\n"
            ],
            "application/vnd.google.colaboratory.intrinsic+json": {
              "type": "dataframe",
              "variable_name": "merged_data"
            }
          },
          "metadata": {},
          "execution_count": 49
        }
      ]
    },
    {
      "cell_type": "code",
      "source": [
        "import pandas as pd\n",
        "from mlxtend.frequent_patterns import apriori, association_rules"
      ],
      "metadata": {
        "id": "9iruOAgTeEze"
      },
      "execution_count": 50,
      "outputs": []
    },
    {
      "cell_type": "code",
      "source": [
        "mainstream_young = merged_data[\n",
        "    (merged_data['LIFESTAGE'] == 'YOUNG SINGLES/COUPLES') &\n",
        "    (merged_data['PREMIUM_CUSTOMER'] == 'Mainstream')\n",
        "]"
      ],
      "metadata": {
        "id": "K2i-zk9_eE5H"
      },
      "execution_count": 58,
      "outputs": []
    },
    {
      "cell_type": "code",
      "source": [
        "mainstream_young.shape"
      ],
      "metadata": {
        "colab": {
          "base_uri": "https://localhost:8080/"
        },
        "id": "BK_CNH5R_Cns",
        "outputId": "29220c2c-d139-4f8d-fb2b-48311ff6cfc1"
      },
      "execution_count": 61,
      "outputs": [
        {
          "output_type": "execute_result",
          "data": {
            "text/plain": [
              "(19544, 12)"
            ]
          },
          "metadata": {},
          "execution_count": 61
        }
      ]
    },
    {
      "cell_type": "code",
      "source": [
        "# Creating a transaction table in one-hot encoding format\n",
        "basket = mainstream_young.groupby(['LYLTY_CARD_NBR', 'BRAND'])['TOT_SALES'].sum().unstack().fillna(0)\n",
        "basket = (basket > 0).astype(int)"
      ],
      "metadata": {
        "id": "vN5zBK5NfaEj"
      },
      "execution_count": 62,
      "outputs": []
    },
    {
      "cell_type": "code",
      "source": [
        "print(basket.sum().sum())"
      ],
      "metadata": {
        "colab": {
          "base_uri": "https://localhost:8080/"
        },
        "id": "NYLAe7d3faHc",
        "outputId": "28499b8f-00d1-4f31-f2d2-9e2f30cfdeb2"
      },
      "execution_count": 63,
      "outputs": [
        {
          "output_type": "stream",
          "name": "stdout",
          "text": [
            "17204\n"
          ]
        }
      ]
    },
    {
      "cell_type": "code",
      "source": [
        "# Running the Apriori algorithm\n",
        "frequent_itemsets = apriori(basket, min_support=0.05, use_colnames=True)"
      ],
      "metadata": {
        "colab": {
          "base_uri": "https://localhost:8080/"
        },
        "id": "WSjP-Dn__N-f",
        "outputId": "d6397b60-87a4-4198-9bbb-96cbcab7aa39"
      },
      "execution_count": 64,
      "outputs": [
        {
          "output_type": "stream",
          "name": "stderr",
          "text": [
            "/usr/local/lib/python3.11/dist-packages/mlxtend/frequent_patterns/fpcommon.py:161: DeprecationWarning: DataFrames with non-bool types result in worse computationalperformance and their support might be discontinued in the future.Please use a DataFrame with bool type\n",
            "  warnings.warn(\n"
          ]
        }
      ]
    },
    {
      "cell_type": "code",
      "source": [
        "frequent_itemsets"
      ],
      "metadata": {
        "colab": {
          "base_uri": "https://localhost:8080/",
          "height": 645
        },
        "id": "vgfOwoka_OiT",
        "outputId": "9f7b5a37-0f25-4684-f013-bbc0523581d0"
      },
      "execution_count": 65,
      "outputs": [
        {
          "output_type": "execute_result",
          "data": {
            "text/plain": [
              "     support             itemsets\n",
              "0   0.103827               (Cobs)\n",
              "1   0.260326            (Doritos)\n",
              "2   0.070102              (Grain)\n",
              "3   0.143110          (Infuzions)\n",
              "4   0.387142             (Kettle)\n",
              "5   0.256158           (Pringles)\n",
              "6   0.093975                (RRD)\n",
              "7   0.202476              (Smith)\n",
              "8   0.136036              (Thins)\n",
              "9   0.105848           (Tostitos)\n",
              "10  0.107364           (Twisties)\n",
              "11  0.076165           (Tyrrells)\n",
              "12  0.053808         (Woolworths)\n",
              "13  0.089933    (Doritos, Kettle)\n",
              "14  0.062650  (Doritos, Pringles)\n",
              "15  0.051156     (Doritos, Smith)\n",
              "16  0.091449   (Pringles, Kettle)\n",
              "17  0.075660      (Smith, Kettle)\n",
              "18  0.051282      (Thins, Kettle)"
            ],
            "text/html": [
              "\n",
              "  <div id=\"df-d96b8a19-d8ab-415b-a0fe-04fd56abdea1\" class=\"colab-df-container\">\n",
              "    <div>\n",
              "<style scoped>\n",
              "    .dataframe tbody tr th:only-of-type {\n",
              "        vertical-align: middle;\n",
              "    }\n",
              "\n",
              "    .dataframe tbody tr th {\n",
              "        vertical-align: top;\n",
              "    }\n",
              "\n",
              "    .dataframe thead th {\n",
              "        text-align: right;\n",
              "    }\n",
              "</style>\n",
              "<table border=\"1\" class=\"dataframe\">\n",
              "  <thead>\n",
              "    <tr style=\"text-align: right;\">\n",
              "      <th></th>\n",
              "      <th>support</th>\n",
              "      <th>itemsets</th>\n",
              "    </tr>\n",
              "  </thead>\n",
              "  <tbody>\n",
              "    <tr>\n",
              "      <th>0</th>\n",
              "      <td>0.103827</td>\n",
              "      <td>(Cobs)</td>\n",
              "    </tr>\n",
              "    <tr>\n",
              "      <th>1</th>\n",
              "      <td>0.260326</td>\n",
              "      <td>(Doritos)</td>\n",
              "    </tr>\n",
              "    <tr>\n",
              "      <th>2</th>\n",
              "      <td>0.070102</td>\n",
              "      <td>(Grain)</td>\n",
              "    </tr>\n",
              "    <tr>\n",
              "      <th>3</th>\n",
              "      <td>0.143110</td>\n",
              "      <td>(Infuzions)</td>\n",
              "    </tr>\n",
              "    <tr>\n",
              "      <th>4</th>\n",
              "      <td>0.387142</td>\n",
              "      <td>(Kettle)</td>\n",
              "    </tr>\n",
              "    <tr>\n",
              "      <th>5</th>\n",
              "      <td>0.256158</td>\n",
              "      <td>(Pringles)</td>\n",
              "    </tr>\n",
              "    <tr>\n",
              "      <th>6</th>\n",
              "      <td>0.093975</td>\n",
              "      <td>(RRD)</td>\n",
              "    </tr>\n",
              "    <tr>\n",
              "      <th>7</th>\n",
              "      <td>0.202476</td>\n",
              "      <td>(Smith)</td>\n",
              "    </tr>\n",
              "    <tr>\n",
              "      <th>8</th>\n",
              "      <td>0.136036</td>\n",
              "      <td>(Thins)</td>\n",
              "    </tr>\n",
              "    <tr>\n",
              "      <th>9</th>\n",
              "      <td>0.105848</td>\n",
              "      <td>(Tostitos)</td>\n",
              "    </tr>\n",
              "    <tr>\n",
              "      <th>10</th>\n",
              "      <td>0.107364</td>\n",
              "      <td>(Twisties)</td>\n",
              "    </tr>\n",
              "    <tr>\n",
              "      <th>11</th>\n",
              "      <td>0.076165</td>\n",
              "      <td>(Tyrrells)</td>\n",
              "    </tr>\n",
              "    <tr>\n",
              "      <th>12</th>\n",
              "      <td>0.053808</td>\n",
              "      <td>(Woolworths)</td>\n",
              "    </tr>\n",
              "    <tr>\n",
              "      <th>13</th>\n",
              "      <td>0.089933</td>\n",
              "      <td>(Doritos, Kettle)</td>\n",
              "    </tr>\n",
              "    <tr>\n",
              "      <th>14</th>\n",
              "      <td>0.062650</td>\n",
              "      <td>(Doritos, Pringles)</td>\n",
              "    </tr>\n",
              "    <tr>\n",
              "      <th>15</th>\n",
              "      <td>0.051156</td>\n",
              "      <td>(Doritos, Smith)</td>\n",
              "    </tr>\n",
              "    <tr>\n",
              "      <th>16</th>\n",
              "      <td>0.091449</td>\n",
              "      <td>(Pringles, Kettle)</td>\n",
              "    </tr>\n",
              "    <tr>\n",
              "      <th>17</th>\n",
              "      <td>0.075660</td>\n",
              "      <td>(Smith, Kettle)</td>\n",
              "    </tr>\n",
              "    <tr>\n",
              "      <th>18</th>\n",
              "      <td>0.051282</td>\n",
              "      <td>(Thins, Kettle)</td>\n",
              "    </tr>\n",
              "  </tbody>\n",
              "</table>\n",
              "</div>\n",
              "    <div class=\"colab-df-buttons\">\n",
              "\n",
              "  <div class=\"colab-df-container\">\n",
              "    <button class=\"colab-df-convert\" onclick=\"convertToInteractive('df-d96b8a19-d8ab-415b-a0fe-04fd56abdea1')\"\n",
              "            title=\"Convert this dataframe to an interactive table.\"\n",
              "            style=\"display:none;\">\n",
              "\n",
              "  <svg xmlns=\"http://www.w3.org/2000/svg\" height=\"24px\" viewBox=\"0 -960 960 960\">\n",
              "    <path d=\"M120-120v-720h720v720H120Zm60-500h600v-160H180v160Zm220 220h160v-160H400v160Zm0 220h160v-160H400v160ZM180-400h160v-160H180v160Zm440 0h160v-160H620v160ZM180-180h160v-160H180v160Zm440 0h160v-160H620v160Z\"/>\n",
              "  </svg>\n",
              "    </button>\n",
              "\n",
              "  <style>\n",
              "    .colab-df-container {\n",
              "      display:flex;\n",
              "      gap: 12px;\n",
              "    }\n",
              "\n",
              "    .colab-df-convert {\n",
              "      background-color: #E8F0FE;\n",
              "      border: none;\n",
              "      border-radius: 50%;\n",
              "      cursor: pointer;\n",
              "      display: none;\n",
              "      fill: #1967D2;\n",
              "      height: 32px;\n",
              "      padding: 0 0 0 0;\n",
              "      width: 32px;\n",
              "    }\n",
              "\n",
              "    .colab-df-convert:hover {\n",
              "      background-color: #E2EBFA;\n",
              "      box-shadow: 0px 1px 2px rgba(60, 64, 67, 0.3), 0px 1px 3px 1px rgba(60, 64, 67, 0.15);\n",
              "      fill: #174EA6;\n",
              "    }\n",
              "\n",
              "    .colab-df-buttons div {\n",
              "      margin-bottom: 4px;\n",
              "    }\n",
              "\n",
              "    [theme=dark] .colab-df-convert {\n",
              "      background-color: #3B4455;\n",
              "      fill: #D2E3FC;\n",
              "    }\n",
              "\n",
              "    [theme=dark] .colab-df-convert:hover {\n",
              "      background-color: #434B5C;\n",
              "      box-shadow: 0px 1px 3px 1px rgba(0, 0, 0, 0.15);\n",
              "      filter: drop-shadow(0px 1px 2px rgba(0, 0, 0, 0.3));\n",
              "      fill: #FFFFFF;\n",
              "    }\n",
              "  </style>\n",
              "\n",
              "    <script>\n",
              "      const buttonEl =\n",
              "        document.querySelector('#df-d96b8a19-d8ab-415b-a0fe-04fd56abdea1 button.colab-df-convert');\n",
              "      buttonEl.style.display =\n",
              "        google.colab.kernel.accessAllowed ? 'block' : 'none';\n",
              "\n",
              "      async function convertToInteractive(key) {\n",
              "        const element = document.querySelector('#df-d96b8a19-d8ab-415b-a0fe-04fd56abdea1');\n",
              "        const dataTable =\n",
              "          await google.colab.kernel.invokeFunction('convertToInteractive',\n",
              "                                                    [key], {});\n",
              "        if (!dataTable) return;\n",
              "\n",
              "        const docLinkHtml = 'Like what you see? Visit the ' +\n",
              "          '<a target=\"_blank\" href=https://colab.research.google.com/notebooks/data_table.ipynb>data table notebook</a>'\n",
              "          + ' to learn more about interactive tables.';\n",
              "        element.innerHTML = '';\n",
              "        dataTable['output_type'] = 'display_data';\n",
              "        await google.colab.output.renderOutput(dataTable, element);\n",
              "        const docLink = document.createElement('div');\n",
              "        docLink.innerHTML = docLinkHtml;\n",
              "        element.appendChild(docLink);\n",
              "      }\n",
              "    </script>\n",
              "  </div>\n",
              "\n",
              "\n",
              "<div id=\"df-1e3c69e1-eeaa-4b08-8b73-08eaa7b0aa24\">\n",
              "  <button class=\"colab-df-quickchart\" onclick=\"quickchart('df-1e3c69e1-eeaa-4b08-8b73-08eaa7b0aa24')\"\n",
              "            title=\"Suggest charts\"\n",
              "            style=\"display:none;\">\n",
              "\n",
              "<svg xmlns=\"http://www.w3.org/2000/svg\" height=\"24px\"viewBox=\"0 0 24 24\"\n",
              "     width=\"24px\">\n",
              "    <g>\n",
              "        <path d=\"M19 3H5c-1.1 0-2 .9-2 2v14c0 1.1.9 2 2 2h14c1.1 0 2-.9 2-2V5c0-1.1-.9-2-2-2zM9 17H7v-7h2v7zm4 0h-2V7h2v10zm4 0h-2v-4h2v4z\"/>\n",
              "    </g>\n",
              "</svg>\n",
              "  </button>\n",
              "\n",
              "<style>\n",
              "  .colab-df-quickchart {\n",
              "      --bg-color: #E8F0FE;\n",
              "      --fill-color: #1967D2;\n",
              "      --hover-bg-color: #E2EBFA;\n",
              "      --hover-fill-color: #174EA6;\n",
              "      --disabled-fill-color: #AAA;\n",
              "      --disabled-bg-color: #DDD;\n",
              "  }\n",
              "\n",
              "  [theme=dark] .colab-df-quickchart {\n",
              "      --bg-color: #3B4455;\n",
              "      --fill-color: #D2E3FC;\n",
              "      --hover-bg-color: #434B5C;\n",
              "      --hover-fill-color: #FFFFFF;\n",
              "      --disabled-bg-color: #3B4455;\n",
              "      --disabled-fill-color: #666;\n",
              "  }\n",
              "\n",
              "  .colab-df-quickchart {\n",
              "    background-color: var(--bg-color);\n",
              "    border: none;\n",
              "    border-radius: 50%;\n",
              "    cursor: pointer;\n",
              "    display: none;\n",
              "    fill: var(--fill-color);\n",
              "    height: 32px;\n",
              "    padding: 0;\n",
              "    width: 32px;\n",
              "  }\n",
              "\n",
              "  .colab-df-quickchart:hover {\n",
              "    background-color: var(--hover-bg-color);\n",
              "    box-shadow: 0 1px 2px rgba(60, 64, 67, 0.3), 0 1px 3px 1px rgba(60, 64, 67, 0.15);\n",
              "    fill: var(--button-hover-fill-color);\n",
              "  }\n",
              "\n",
              "  .colab-df-quickchart-complete:disabled,\n",
              "  .colab-df-quickchart-complete:disabled:hover {\n",
              "    background-color: var(--disabled-bg-color);\n",
              "    fill: var(--disabled-fill-color);\n",
              "    box-shadow: none;\n",
              "  }\n",
              "\n",
              "  .colab-df-spinner {\n",
              "    border: 2px solid var(--fill-color);\n",
              "    border-color: transparent;\n",
              "    border-bottom-color: var(--fill-color);\n",
              "    animation:\n",
              "      spin 1s steps(1) infinite;\n",
              "  }\n",
              "\n",
              "  @keyframes spin {\n",
              "    0% {\n",
              "      border-color: transparent;\n",
              "      border-bottom-color: var(--fill-color);\n",
              "      border-left-color: var(--fill-color);\n",
              "    }\n",
              "    20% {\n",
              "      border-color: transparent;\n",
              "      border-left-color: var(--fill-color);\n",
              "      border-top-color: var(--fill-color);\n",
              "    }\n",
              "    30% {\n",
              "      border-color: transparent;\n",
              "      border-left-color: var(--fill-color);\n",
              "      border-top-color: var(--fill-color);\n",
              "      border-right-color: var(--fill-color);\n",
              "    }\n",
              "    40% {\n",
              "      border-color: transparent;\n",
              "      border-right-color: var(--fill-color);\n",
              "      border-top-color: var(--fill-color);\n",
              "    }\n",
              "    60% {\n",
              "      border-color: transparent;\n",
              "      border-right-color: var(--fill-color);\n",
              "    }\n",
              "    80% {\n",
              "      border-color: transparent;\n",
              "      border-right-color: var(--fill-color);\n",
              "      border-bottom-color: var(--fill-color);\n",
              "    }\n",
              "    90% {\n",
              "      border-color: transparent;\n",
              "      border-bottom-color: var(--fill-color);\n",
              "    }\n",
              "  }\n",
              "</style>\n",
              "\n",
              "  <script>\n",
              "    async function quickchart(key) {\n",
              "      const quickchartButtonEl =\n",
              "        document.querySelector('#' + key + ' button');\n",
              "      quickchartButtonEl.disabled = true;  // To prevent multiple clicks.\n",
              "      quickchartButtonEl.classList.add('colab-df-spinner');\n",
              "      try {\n",
              "        const charts = await google.colab.kernel.invokeFunction(\n",
              "            'suggestCharts', [key], {});\n",
              "      } catch (error) {\n",
              "        console.error('Error during call to suggestCharts:', error);\n",
              "      }\n",
              "      quickchartButtonEl.classList.remove('colab-df-spinner');\n",
              "      quickchartButtonEl.classList.add('colab-df-quickchart-complete');\n",
              "    }\n",
              "    (() => {\n",
              "      let quickchartButtonEl =\n",
              "        document.querySelector('#df-1e3c69e1-eeaa-4b08-8b73-08eaa7b0aa24 button');\n",
              "      quickchartButtonEl.style.display =\n",
              "        google.colab.kernel.accessAllowed ? 'block' : 'none';\n",
              "    })();\n",
              "  </script>\n",
              "</div>\n",
              "\n",
              "  <div id=\"id_e7f4df7d-1d92-4e69-8fe5-77ae5bb039e4\">\n",
              "    <style>\n",
              "      .colab-df-generate {\n",
              "        background-color: #E8F0FE;\n",
              "        border: none;\n",
              "        border-radius: 50%;\n",
              "        cursor: pointer;\n",
              "        display: none;\n",
              "        fill: #1967D2;\n",
              "        height: 32px;\n",
              "        padding: 0 0 0 0;\n",
              "        width: 32px;\n",
              "      }\n",
              "\n",
              "      .colab-df-generate:hover {\n",
              "        background-color: #E2EBFA;\n",
              "        box-shadow: 0px 1px 2px rgba(60, 64, 67, 0.3), 0px 1px 3px 1px rgba(60, 64, 67, 0.15);\n",
              "        fill: #174EA6;\n",
              "      }\n",
              "\n",
              "      [theme=dark] .colab-df-generate {\n",
              "        background-color: #3B4455;\n",
              "        fill: #D2E3FC;\n",
              "      }\n",
              "\n",
              "      [theme=dark] .colab-df-generate:hover {\n",
              "        background-color: #434B5C;\n",
              "        box-shadow: 0px 1px 3px 1px rgba(0, 0, 0, 0.15);\n",
              "        filter: drop-shadow(0px 1px 2px rgba(0, 0, 0, 0.3));\n",
              "        fill: #FFFFFF;\n",
              "      }\n",
              "    </style>\n",
              "    <button class=\"colab-df-generate\" onclick=\"generateWithVariable('frequent_itemsets')\"\n",
              "            title=\"Generate code using this dataframe.\"\n",
              "            style=\"display:none;\">\n",
              "\n",
              "  <svg xmlns=\"http://www.w3.org/2000/svg\" height=\"24px\"viewBox=\"0 0 24 24\"\n",
              "       width=\"24px\">\n",
              "    <path d=\"M7,19H8.4L18.45,9,17,7.55,7,17.6ZM5,21V16.75L18.45,3.32a2,2,0,0,1,2.83,0l1.4,1.43a1.91,1.91,0,0,1,.58,1.4,1.91,1.91,0,0,1-.58,1.4L9.25,21ZM18.45,9,17,7.55Zm-12,3A5.31,5.31,0,0,0,4.9,8.1,5.31,5.31,0,0,0,1,6.5,5.31,5.31,0,0,0,4.9,4.9,5.31,5.31,0,0,0,6.5,1,5.31,5.31,0,0,0,8.1,4.9,5.31,5.31,0,0,0,12,6.5,5.46,5.46,0,0,0,6.5,12Z\"/>\n",
              "  </svg>\n",
              "    </button>\n",
              "    <script>\n",
              "      (() => {\n",
              "      const buttonEl =\n",
              "        document.querySelector('#id_e7f4df7d-1d92-4e69-8fe5-77ae5bb039e4 button.colab-df-generate');\n",
              "      buttonEl.style.display =\n",
              "        google.colab.kernel.accessAllowed ? 'block' : 'none';\n",
              "\n",
              "      buttonEl.onclick = () => {\n",
              "        google.colab.notebook.generateWithVariable('frequent_itemsets');\n",
              "      }\n",
              "      })();\n",
              "    </script>\n",
              "  </div>\n",
              "\n",
              "    </div>\n",
              "  </div>\n"
            ],
            "application/vnd.google.colaboratory.intrinsic+json": {
              "type": "dataframe",
              "variable_name": "frequent_itemsets",
              "summary": "{\n  \"name\": \"frequent_itemsets\",\n  \"rows\": 19,\n  \"fields\": [\n    {\n      \"column\": \"support\",\n      \"properties\": {\n        \"dtype\": \"number\",\n        \"std\": 0.08904013098569122,\n        \"min\": 0.051155740810913224,\n        \"max\": 0.38714159403814574,\n        \"num_unique_values\": 19,\n        \"samples\": [\n          0.10382720727548314,\n          0.2561576354679803,\n          0.07616521409624857\n        ],\n        \"semantic_type\": \"\",\n        \"description\": \"\"\n      }\n    },\n    {\n      \"column\": \"itemsets\",\n      \"properties\": {\n        \"dtype\": \"string\",\n        \"num_unique_values\": 19,\n        \"samples\": [\n          \"frozenset({'Cobs'})\",\n          \"frozenset({'Pringles'})\",\n          \"frozenset({'Tyrrells'})\"\n        ],\n        \"semantic_type\": \"\",\n        \"description\": \"\"\n      }\n    }\n  ]\n}"
            }
          },
          "metadata": {},
          "execution_count": 65
        }
      ]
    },
    {
      "cell_type": "markdown",
      "source": [
        "This is a DataFrame with the following columns:\n",
        "\n",
        " - itemsets — which items are frequently purchased together\n",
        "\n",
        " - support — the proportion of transactions in which this itemset appears"
      ],
      "metadata": {
        "id": "qhT1jIGa_zMD"
      }
    },
    {
      "cell_type": "code",
      "source": [
        "# Generating association rules\n",
        "rules = association_rules(frequent_itemsets, metric=\"lift\", min_threshold=0.5)\n",
        "\n",
        "# Sort by lift (the higher the value, the stronger the association).\n",
        "rules = rules.sort_values(by=\"lift\", ascending=False)\n",
        "\n",
        "# Display the top 10 associations.\n",
        "print(rules[['antecedents', 'consequents', 'support', 'confidence', 'lift']].head(10))"
      ],
      "metadata": {
        "colab": {
          "base_uri": "https://localhost:8080/"
        },
        "id": "_kzgNe4N_SPV",
        "outputId": "7a31b888-87f1-483f-fb41-46decab7557d"
      },
      "execution_count": 68,
      "outputs": [
        {
          "output_type": "stream",
          "name": "stdout",
          "text": [
            "   antecedents consequents   support  confidence      lift\n",
            "11    (Kettle)     (Thins)  0.051282    0.132463  0.973734\n",
            "10     (Thins)    (Kettle)  0.051282    0.376973  0.973734\n",
            "5      (Smith)   (Doritos)  0.051156    0.252651  0.970519\n",
            "4    (Doritos)     (Smith)  0.051156    0.196507  0.970519\n",
            "8      (Smith)    (Kettle)  0.075660    0.373674  0.965214\n",
            "9     (Kettle)     (Smith)  0.075660    0.195432  0.965214\n",
            "2    (Doritos)  (Pringles)  0.062650    0.240660  0.939499\n",
            "3   (Pringles)   (Doritos)  0.062650    0.244576  0.939499\n",
            "6   (Pringles)    (Kettle)  0.091449    0.357002  0.922148\n",
            "7     (Kettle)  (Pringles)  0.091449    0.236215  0.922148\n"
          ]
        }
      ]
    },
    {
      "cell_type": "markdown",
      "source": [
        "Associations between chip brands that are frequently purchased together have been found.\n",
        "\n",
        "**Table Interpretation:**\n",
        "1. Antecedents (left element) – A product whose purchase may predict the purchase of another.\n",
        "2. Consequents (right element) – A product that is likely to be bought together with the antecedent.\n",
        "3. Support – The proportion of transactions that contain this itemset.\n",
        "4. Confidence – The probability that if a customer buys the antecedent, they will also buy the consequent.\n",
        "5. Lift – How much stronger the relationship between the products is compared to random coincidence. A lift > 1 means that buying one product truly increases the likelihood of buying the other.\n",
        "\n",
        "**Key Findings:**\n",
        "Kettle and Thins are often bought together (lift = 0.97).\n",
        "\n",
        " - If a customer buys Kettle, the probability of buying Thins is 13.2%.\n",
        " - If a customer buys Thins, the probability of buying Kettle is 37.7%.\n",
        "\n",
        "Smith and Doritos frequently appear in the same purchase (lift = 0.97).\n",
        "\n",
        " - If a customer buys Smith, they will buy Doritos in 25.2% of cases.\n",
        " - If a customer buys Doritos, they will buy Smith in 19.6% of cases.\n",
        "\n",
        "Pringles, Kettle, and Doritos form strong associations:\n",
        "\n",
        " - Pringles and Kettle are often bought together (lift = 0.92).\n",
        " - Pringles and Doritos are also frequently paired (lift = 0.94).\n",
        "\n",
        "**What to Do with These Insights?**\n",
        "\n",
        "Recommendations & Marketing:\n",
        "\n",
        "If a customer buys Kettle, offer them a discount on Thins.\n",
        "If a customer buys Smith, suggest Doritos as an additional purchase.\n",
        "\n",
        "**Optimizing Product Placement:**\n",
        "\n",
        "Place Kettle and Thins next to each other on store shelves.\n",
        "Do the same for Smith and Doritos to encourage joint purchases."
      ],
      "metadata": {
        "id": "xNHzi-xRNjKe"
      }
    },
    {
      "cell_type": "markdown",
      "source": [
        "## Let's also find out if our target segment tends to buy larger packs of chips.\n"
      ],
      "metadata": {
        "id": "tRGl-1ILBnmn"
      }
    },
    {
      "cell_type": "code",
      "source": [
        "merged_data.head()"
      ],
      "metadata": {
        "colab": {
          "base_uri": "https://localhost:8080/",
          "height": 206
        },
        "id": "ZF_1i2rH_SSI",
        "outputId": "7d105789-fafe-4312-be6d-7aa612173fda"
      },
      "execution_count": 69,
      "outputs": [
        {
          "output_type": "execute_result",
          "data": {
            "text/plain": [
              "        DATE  STORE_NBR  LYLTY_CARD_NBR  TXN_ID  PROD_NBR  \\\n",
              "0 2018-10-17          1            1000       1         5   \n",
              "1 2019-05-14          1            1307     348        66   \n",
              "2 2019-05-20          1            1343     383        61   \n",
              "3 2018-08-17          2            2373     974        69   \n",
              "4 2018-08-18          2            2426    1038       108   \n",
              "\n",
              "                                  PROD_NAME  PROD_QTY  TOT_SALES  PACK_SIZE  \\\n",
              "0    Natural Chip        Compny SeaSalt175g         2        6.0      175.0   \n",
              "1                  CCs Nacho Cheese    175g         3        6.3      175.0   \n",
              "2    Smiths Crinkle Cut  Chips Chicken 170g         2        2.9      170.0   \n",
              "3    Smiths Chip Thinly  S/Cream&Onion 175g         5       15.0      175.0   \n",
              "4  Kettle Tortilla ChpsHny&Jlpno Chili 150g         3       13.8      150.0   \n",
              "\n",
              "     BRAND               LIFESTAGE PREMIUM_CUSTOMER  \n",
              "0  Natural   YOUNG SINGLES/COUPLES          Premium  \n",
              "1  Cheetos  MIDAGE SINGLES/COUPLES           Budget  \n",
              "2    Smith  MIDAGE SINGLES/COUPLES           Budget  \n",
              "3    Smith  MIDAGE SINGLES/COUPLES           Budget  \n",
              "4   Kettle  MIDAGE SINGLES/COUPLES           Budget  "
            ],
            "text/html": [
              "\n",
              "  <div id=\"df-25f9a107-9e18-4398-9f3b-d844584e26cd\" class=\"colab-df-container\">\n",
              "    <div>\n",
              "<style scoped>\n",
              "    .dataframe tbody tr th:only-of-type {\n",
              "        vertical-align: middle;\n",
              "    }\n",
              "\n",
              "    .dataframe tbody tr th {\n",
              "        vertical-align: top;\n",
              "    }\n",
              "\n",
              "    .dataframe thead th {\n",
              "        text-align: right;\n",
              "    }\n",
              "</style>\n",
              "<table border=\"1\" class=\"dataframe\">\n",
              "  <thead>\n",
              "    <tr style=\"text-align: right;\">\n",
              "      <th></th>\n",
              "      <th>DATE</th>\n",
              "      <th>STORE_NBR</th>\n",
              "      <th>LYLTY_CARD_NBR</th>\n",
              "      <th>TXN_ID</th>\n",
              "      <th>PROD_NBR</th>\n",
              "      <th>PROD_NAME</th>\n",
              "      <th>PROD_QTY</th>\n",
              "      <th>TOT_SALES</th>\n",
              "      <th>PACK_SIZE</th>\n",
              "      <th>BRAND</th>\n",
              "      <th>LIFESTAGE</th>\n",
              "      <th>PREMIUM_CUSTOMER</th>\n",
              "    </tr>\n",
              "  </thead>\n",
              "  <tbody>\n",
              "    <tr>\n",
              "      <th>0</th>\n",
              "      <td>2018-10-17</td>\n",
              "      <td>1</td>\n",
              "      <td>1000</td>\n",
              "      <td>1</td>\n",
              "      <td>5</td>\n",
              "      <td>Natural Chip        Compny SeaSalt175g</td>\n",
              "      <td>2</td>\n",
              "      <td>6.0</td>\n",
              "      <td>175.0</td>\n",
              "      <td>Natural</td>\n",
              "      <td>YOUNG SINGLES/COUPLES</td>\n",
              "      <td>Premium</td>\n",
              "    </tr>\n",
              "    <tr>\n",
              "      <th>1</th>\n",
              "      <td>2019-05-14</td>\n",
              "      <td>1</td>\n",
              "      <td>1307</td>\n",
              "      <td>348</td>\n",
              "      <td>66</td>\n",
              "      <td>CCs Nacho Cheese    175g</td>\n",
              "      <td>3</td>\n",
              "      <td>6.3</td>\n",
              "      <td>175.0</td>\n",
              "      <td>Cheetos</td>\n",
              "      <td>MIDAGE SINGLES/COUPLES</td>\n",
              "      <td>Budget</td>\n",
              "    </tr>\n",
              "    <tr>\n",
              "      <th>2</th>\n",
              "      <td>2019-05-20</td>\n",
              "      <td>1</td>\n",
              "      <td>1343</td>\n",
              "      <td>383</td>\n",
              "      <td>61</td>\n",
              "      <td>Smiths Crinkle Cut  Chips Chicken 170g</td>\n",
              "      <td>2</td>\n",
              "      <td>2.9</td>\n",
              "      <td>170.0</td>\n",
              "      <td>Smith</td>\n",
              "      <td>MIDAGE SINGLES/COUPLES</td>\n",
              "      <td>Budget</td>\n",
              "    </tr>\n",
              "    <tr>\n",
              "      <th>3</th>\n",
              "      <td>2018-08-17</td>\n",
              "      <td>2</td>\n",
              "      <td>2373</td>\n",
              "      <td>974</td>\n",
              "      <td>69</td>\n",
              "      <td>Smiths Chip Thinly  S/Cream&amp;Onion 175g</td>\n",
              "      <td>5</td>\n",
              "      <td>15.0</td>\n",
              "      <td>175.0</td>\n",
              "      <td>Smith</td>\n",
              "      <td>MIDAGE SINGLES/COUPLES</td>\n",
              "      <td>Budget</td>\n",
              "    </tr>\n",
              "    <tr>\n",
              "      <th>4</th>\n",
              "      <td>2018-08-18</td>\n",
              "      <td>2</td>\n",
              "      <td>2426</td>\n",
              "      <td>1038</td>\n",
              "      <td>108</td>\n",
              "      <td>Kettle Tortilla ChpsHny&amp;Jlpno Chili 150g</td>\n",
              "      <td>3</td>\n",
              "      <td>13.8</td>\n",
              "      <td>150.0</td>\n",
              "      <td>Kettle</td>\n",
              "      <td>MIDAGE SINGLES/COUPLES</td>\n",
              "      <td>Budget</td>\n",
              "    </tr>\n",
              "  </tbody>\n",
              "</table>\n",
              "</div>\n",
              "    <div class=\"colab-df-buttons\">\n",
              "\n",
              "  <div class=\"colab-df-container\">\n",
              "    <button class=\"colab-df-convert\" onclick=\"convertToInteractive('df-25f9a107-9e18-4398-9f3b-d844584e26cd')\"\n",
              "            title=\"Convert this dataframe to an interactive table.\"\n",
              "            style=\"display:none;\">\n",
              "\n",
              "  <svg xmlns=\"http://www.w3.org/2000/svg\" height=\"24px\" viewBox=\"0 -960 960 960\">\n",
              "    <path d=\"M120-120v-720h720v720H120Zm60-500h600v-160H180v160Zm220 220h160v-160H400v160Zm0 220h160v-160H400v160ZM180-400h160v-160H180v160Zm440 0h160v-160H620v160ZM180-180h160v-160H180v160Zm440 0h160v-160H620v160Z\"/>\n",
              "  </svg>\n",
              "    </button>\n",
              "\n",
              "  <style>\n",
              "    .colab-df-container {\n",
              "      display:flex;\n",
              "      gap: 12px;\n",
              "    }\n",
              "\n",
              "    .colab-df-convert {\n",
              "      background-color: #E8F0FE;\n",
              "      border: none;\n",
              "      border-radius: 50%;\n",
              "      cursor: pointer;\n",
              "      display: none;\n",
              "      fill: #1967D2;\n",
              "      height: 32px;\n",
              "      padding: 0 0 0 0;\n",
              "      width: 32px;\n",
              "    }\n",
              "\n",
              "    .colab-df-convert:hover {\n",
              "      background-color: #E2EBFA;\n",
              "      box-shadow: 0px 1px 2px rgba(60, 64, 67, 0.3), 0px 1px 3px 1px rgba(60, 64, 67, 0.15);\n",
              "      fill: #174EA6;\n",
              "    }\n",
              "\n",
              "    .colab-df-buttons div {\n",
              "      margin-bottom: 4px;\n",
              "    }\n",
              "\n",
              "    [theme=dark] .colab-df-convert {\n",
              "      background-color: #3B4455;\n",
              "      fill: #D2E3FC;\n",
              "    }\n",
              "\n",
              "    [theme=dark] .colab-df-convert:hover {\n",
              "      background-color: #434B5C;\n",
              "      box-shadow: 0px 1px 3px 1px rgba(0, 0, 0, 0.15);\n",
              "      filter: drop-shadow(0px 1px 2px rgba(0, 0, 0, 0.3));\n",
              "      fill: #FFFFFF;\n",
              "    }\n",
              "  </style>\n",
              "\n",
              "    <script>\n",
              "      const buttonEl =\n",
              "        document.querySelector('#df-25f9a107-9e18-4398-9f3b-d844584e26cd button.colab-df-convert');\n",
              "      buttonEl.style.display =\n",
              "        google.colab.kernel.accessAllowed ? 'block' : 'none';\n",
              "\n",
              "      async function convertToInteractive(key) {\n",
              "        const element = document.querySelector('#df-25f9a107-9e18-4398-9f3b-d844584e26cd');\n",
              "        const dataTable =\n",
              "          await google.colab.kernel.invokeFunction('convertToInteractive',\n",
              "                                                    [key], {});\n",
              "        if (!dataTable) return;\n",
              "\n",
              "        const docLinkHtml = 'Like what you see? Visit the ' +\n",
              "          '<a target=\"_blank\" href=https://colab.research.google.com/notebooks/data_table.ipynb>data table notebook</a>'\n",
              "          + ' to learn more about interactive tables.';\n",
              "        element.innerHTML = '';\n",
              "        dataTable['output_type'] = 'display_data';\n",
              "        await google.colab.output.renderOutput(dataTable, element);\n",
              "        const docLink = document.createElement('div');\n",
              "        docLink.innerHTML = docLinkHtml;\n",
              "        element.appendChild(docLink);\n",
              "      }\n",
              "    </script>\n",
              "  </div>\n",
              "\n",
              "\n",
              "<div id=\"df-0d59a5e3-a552-46b9-beae-9e2d233496c1\">\n",
              "  <button class=\"colab-df-quickchart\" onclick=\"quickchart('df-0d59a5e3-a552-46b9-beae-9e2d233496c1')\"\n",
              "            title=\"Suggest charts\"\n",
              "            style=\"display:none;\">\n",
              "\n",
              "<svg xmlns=\"http://www.w3.org/2000/svg\" height=\"24px\"viewBox=\"0 0 24 24\"\n",
              "     width=\"24px\">\n",
              "    <g>\n",
              "        <path d=\"M19 3H5c-1.1 0-2 .9-2 2v14c0 1.1.9 2 2 2h14c1.1 0 2-.9 2-2V5c0-1.1-.9-2-2-2zM9 17H7v-7h2v7zm4 0h-2V7h2v10zm4 0h-2v-4h2v4z\"/>\n",
              "    </g>\n",
              "</svg>\n",
              "  </button>\n",
              "\n",
              "<style>\n",
              "  .colab-df-quickchart {\n",
              "      --bg-color: #E8F0FE;\n",
              "      --fill-color: #1967D2;\n",
              "      --hover-bg-color: #E2EBFA;\n",
              "      --hover-fill-color: #174EA6;\n",
              "      --disabled-fill-color: #AAA;\n",
              "      --disabled-bg-color: #DDD;\n",
              "  }\n",
              "\n",
              "  [theme=dark] .colab-df-quickchart {\n",
              "      --bg-color: #3B4455;\n",
              "      --fill-color: #D2E3FC;\n",
              "      --hover-bg-color: #434B5C;\n",
              "      --hover-fill-color: #FFFFFF;\n",
              "      --disabled-bg-color: #3B4455;\n",
              "      --disabled-fill-color: #666;\n",
              "  }\n",
              "\n",
              "  .colab-df-quickchart {\n",
              "    background-color: var(--bg-color);\n",
              "    border: none;\n",
              "    border-radius: 50%;\n",
              "    cursor: pointer;\n",
              "    display: none;\n",
              "    fill: var(--fill-color);\n",
              "    height: 32px;\n",
              "    padding: 0;\n",
              "    width: 32px;\n",
              "  }\n",
              "\n",
              "  .colab-df-quickchart:hover {\n",
              "    background-color: var(--hover-bg-color);\n",
              "    box-shadow: 0 1px 2px rgba(60, 64, 67, 0.3), 0 1px 3px 1px rgba(60, 64, 67, 0.15);\n",
              "    fill: var(--button-hover-fill-color);\n",
              "  }\n",
              "\n",
              "  .colab-df-quickchart-complete:disabled,\n",
              "  .colab-df-quickchart-complete:disabled:hover {\n",
              "    background-color: var(--disabled-bg-color);\n",
              "    fill: var(--disabled-fill-color);\n",
              "    box-shadow: none;\n",
              "  }\n",
              "\n",
              "  .colab-df-spinner {\n",
              "    border: 2px solid var(--fill-color);\n",
              "    border-color: transparent;\n",
              "    border-bottom-color: var(--fill-color);\n",
              "    animation:\n",
              "      spin 1s steps(1) infinite;\n",
              "  }\n",
              "\n",
              "  @keyframes spin {\n",
              "    0% {\n",
              "      border-color: transparent;\n",
              "      border-bottom-color: var(--fill-color);\n",
              "      border-left-color: var(--fill-color);\n",
              "    }\n",
              "    20% {\n",
              "      border-color: transparent;\n",
              "      border-left-color: var(--fill-color);\n",
              "      border-top-color: var(--fill-color);\n",
              "    }\n",
              "    30% {\n",
              "      border-color: transparent;\n",
              "      border-left-color: var(--fill-color);\n",
              "      border-top-color: var(--fill-color);\n",
              "      border-right-color: var(--fill-color);\n",
              "    }\n",
              "    40% {\n",
              "      border-color: transparent;\n",
              "      border-right-color: var(--fill-color);\n",
              "      border-top-color: var(--fill-color);\n",
              "    }\n",
              "    60% {\n",
              "      border-color: transparent;\n",
              "      border-right-color: var(--fill-color);\n",
              "    }\n",
              "    80% {\n",
              "      border-color: transparent;\n",
              "      border-right-color: var(--fill-color);\n",
              "      border-bottom-color: var(--fill-color);\n",
              "    }\n",
              "    90% {\n",
              "      border-color: transparent;\n",
              "      border-bottom-color: var(--fill-color);\n",
              "    }\n",
              "  }\n",
              "</style>\n",
              "\n",
              "  <script>\n",
              "    async function quickchart(key) {\n",
              "      const quickchartButtonEl =\n",
              "        document.querySelector('#' + key + ' button');\n",
              "      quickchartButtonEl.disabled = true;  // To prevent multiple clicks.\n",
              "      quickchartButtonEl.classList.add('colab-df-spinner');\n",
              "      try {\n",
              "        const charts = await google.colab.kernel.invokeFunction(\n",
              "            'suggestCharts', [key], {});\n",
              "      } catch (error) {\n",
              "        console.error('Error during call to suggestCharts:', error);\n",
              "      }\n",
              "      quickchartButtonEl.classList.remove('colab-df-spinner');\n",
              "      quickchartButtonEl.classList.add('colab-df-quickchart-complete');\n",
              "    }\n",
              "    (() => {\n",
              "      let quickchartButtonEl =\n",
              "        document.querySelector('#df-0d59a5e3-a552-46b9-beae-9e2d233496c1 button');\n",
              "      quickchartButtonEl.style.display =\n",
              "        google.colab.kernel.accessAllowed ? 'block' : 'none';\n",
              "    })();\n",
              "  </script>\n",
              "</div>\n",
              "\n",
              "    </div>\n",
              "  </div>\n"
            ],
            "application/vnd.google.colaboratory.intrinsic+json": {
              "type": "dataframe",
              "variable_name": "merged_data"
            }
          },
          "metadata": {},
          "execution_count": 69
        }
      ]
    },
    {
      "cell_type": "code",
      "source": [
        "target_segment  = merged_data[\n",
        "    (merged_data['LIFESTAGE'] == 'YOUNG SINGLES/COUPLES') &\n",
        "    (merged_data['PREMIUM_CUSTOMER'] == 'Mainstream')\n",
        "]"
      ],
      "metadata": {
        "id": "5aUel0BY_SUz"
      },
      "execution_count": 70,
      "outputs": []
    },
    {
      "cell_type": "code",
      "source": [
        "# Calculating the average pack size by segments\n",
        "pack_size_summary = merged_data.groupby(['LIFESTAGE', 'PREMIUM_CUSTOMER'])['PACK_SIZE'].mean().reset_index()\n",
        "pack_size_summary"
      ],
      "metadata": {
        "colab": {
          "base_uri": "https://localhost:8080/",
          "height": 708
        },
        "id": "w29AGyv2CndT",
        "outputId": "23567ecf-c23f-40ac-fc33-437591e2ab74"
      },
      "execution_count": 71,
      "outputs": [
        {
          "output_type": "execute_result",
          "data": {
            "text/plain": [
              "                 LIFESTAGE PREMIUM_CUSTOMER   PACK_SIZE\n",
              "0   MIDAGE SINGLES/COUPLES           Budget  174.182690\n",
              "1   MIDAGE SINGLES/COUPLES       Mainstream  177.898693\n",
              "2   MIDAGE SINGLES/COUPLES          Premium  174.585391\n",
              "3             NEW FAMILIES           Budget  174.766643\n",
              "4             NEW FAMILIES       Mainstream  175.629748\n",
              "5             NEW FAMILIES          Premium  175.245296\n",
              "6           OLDER FAMILIES           Budget  175.546342\n",
              "7           OLDER FAMILIES       Mainstream  175.175666\n",
              "8           OLDER FAMILIES          Premium  174.524752\n",
              "9    OLDER SINGLES/COUPLES           Budget  175.334673\n",
              "10   OLDER SINGLES/COUPLES       Mainstream  174.812145\n",
              "11   OLDER SINGLES/COUPLES          Premium  176.485657\n",
              "12                RETIREES           Budget  176.395641\n",
              "13                RETIREES       Mainstream  175.213671\n",
              "14                RETIREES          Premium  176.368421\n",
              "15          YOUNG FAMILIES           Budget  175.459720\n",
              "16          YOUNG FAMILIES       Mainstream  174.202059\n",
              "17          YOUNG FAMILIES          Premium  174.659032\n",
              "18   YOUNG SINGLES/COUPLES           Budget  173.378981\n",
              "19   YOUNG SINGLES/COUPLES       Mainstream  178.344249\n",
              "20   YOUNG SINGLES/COUPLES          Premium  174.002563"
            ],
            "text/html": [
              "\n",
              "  <div id=\"df-7411d40b-096c-4392-961e-dd843da3cab8\" class=\"colab-df-container\">\n",
              "    <div>\n",
              "<style scoped>\n",
              "    .dataframe tbody tr th:only-of-type {\n",
              "        vertical-align: middle;\n",
              "    }\n",
              "\n",
              "    .dataframe tbody tr th {\n",
              "        vertical-align: top;\n",
              "    }\n",
              "\n",
              "    .dataframe thead th {\n",
              "        text-align: right;\n",
              "    }\n",
              "</style>\n",
              "<table border=\"1\" class=\"dataframe\">\n",
              "  <thead>\n",
              "    <tr style=\"text-align: right;\">\n",
              "      <th></th>\n",
              "      <th>LIFESTAGE</th>\n",
              "      <th>PREMIUM_CUSTOMER</th>\n",
              "      <th>PACK_SIZE</th>\n",
              "    </tr>\n",
              "  </thead>\n",
              "  <tbody>\n",
              "    <tr>\n",
              "      <th>0</th>\n",
              "      <td>MIDAGE SINGLES/COUPLES</td>\n",
              "      <td>Budget</td>\n",
              "      <td>174.182690</td>\n",
              "    </tr>\n",
              "    <tr>\n",
              "      <th>1</th>\n",
              "      <td>MIDAGE SINGLES/COUPLES</td>\n",
              "      <td>Mainstream</td>\n",
              "      <td>177.898693</td>\n",
              "    </tr>\n",
              "    <tr>\n",
              "      <th>2</th>\n",
              "      <td>MIDAGE SINGLES/COUPLES</td>\n",
              "      <td>Premium</td>\n",
              "      <td>174.585391</td>\n",
              "    </tr>\n",
              "    <tr>\n",
              "      <th>3</th>\n",
              "      <td>NEW FAMILIES</td>\n",
              "      <td>Budget</td>\n",
              "      <td>174.766643</td>\n",
              "    </tr>\n",
              "    <tr>\n",
              "      <th>4</th>\n",
              "      <td>NEW FAMILIES</td>\n",
              "      <td>Mainstream</td>\n",
              "      <td>175.629748</td>\n",
              "    </tr>\n",
              "    <tr>\n",
              "      <th>5</th>\n",
              "      <td>NEW FAMILIES</td>\n",
              "      <td>Premium</td>\n",
              "      <td>175.245296</td>\n",
              "    </tr>\n",
              "    <tr>\n",
              "      <th>6</th>\n",
              "      <td>OLDER FAMILIES</td>\n",
              "      <td>Budget</td>\n",
              "      <td>175.546342</td>\n",
              "    </tr>\n",
              "    <tr>\n",
              "      <th>7</th>\n",
              "      <td>OLDER FAMILIES</td>\n",
              "      <td>Mainstream</td>\n",
              "      <td>175.175666</td>\n",
              "    </tr>\n",
              "    <tr>\n",
              "      <th>8</th>\n",
              "      <td>OLDER FAMILIES</td>\n",
              "      <td>Premium</td>\n",
              "      <td>174.524752</td>\n",
              "    </tr>\n",
              "    <tr>\n",
              "      <th>9</th>\n",
              "      <td>OLDER SINGLES/COUPLES</td>\n",
              "      <td>Budget</td>\n",
              "      <td>175.334673</td>\n",
              "    </tr>\n",
              "    <tr>\n",
              "      <th>10</th>\n",
              "      <td>OLDER SINGLES/COUPLES</td>\n",
              "      <td>Mainstream</td>\n",
              "      <td>174.812145</td>\n",
              "    </tr>\n",
              "    <tr>\n",
              "      <th>11</th>\n",
              "      <td>OLDER SINGLES/COUPLES</td>\n",
              "      <td>Premium</td>\n",
              "      <td>176.485657</td>\n",
              "    </tr>\n",
              "    <tr>\n",
              "      <th>12</th>\n",
              "      <td>RETIREES</td>\n",
              "      <td>Budget</td>\n",
              "      <td>176.395641</td>\n",
              "    </tr>\n",
              "    <tr>\n",
              "      <th>13</th>\n",
              "      <td>RETIREES</td>\n",
              "      <td>Mainstream</td>\n",
              "      <td>175.213671</td>\n",
              "    </tr>\n",
              "    <tr>\n",
              "      <th>14</th>\n",
              "      <td>RETIREES</td>\n",
              "      <td>Premium</td>\n",
              "      <td>176.368421</td>\n",
              "    </tr>\n",
              "    <tr>\n",
              "      <th>15</th>\n",
              "      <td>YOUNG FAMILIES</td>\n",
              "      <td>Budget</td>\n",
              "      <td>175.459720</td>\n",
              "    </tr>\n",
              "    <tr>\n",
              "      <th>16</th>\n",
              "      <td>YOUNG FAMILIES</td>\n",
              "      <td>Mainstream</td>\n",
              "      <td>174.202059</td>\n",
              "    </tr>\n",
              "    <tr>\n",
              "      <th>17</th>\n",
              "      <td>YOUNG FAMILIES</td>\n",
              "      <td>Premium</td>\n",
              "      <td>174.659032</td>\n",
              "    </tr>\n",
              "    <tr>\n",
              "      <th>18</th>\n",
              "      <td>YOUNG SINGLES/COUPLES</td>\n",
              "      <td>Budget</td>\n",
              "      <td>173.378981</td>\n",
              "    </tr>\n",
              "    <tr>\n",
              "      <th>19</th>\n",
              "      <td>YOUNG SINGLES/COUPLES</td>\n",
              "      <td>Mainstream</td>\n",
              "      <td>178.344249</td>\n",
              "    </tr>\n",
              "    <tr>\n",
              "      <th>20</th>\n",
              "      <td>YOUNG SINGLES/COUPLES</td>\n",
              "      <td>Premium</td>\n",
              "      <td>174.002563</td>\n",
              "    </tr>\n",
              "  </tbody>\n",
              "</table>\n",
              "</div>\n",
              "    <div class=\"colab-df-buttons\">\n",
              "\n",
              "  <div class=\"colab-df-container\">\n",
              "    <button class=\"colab-df-convert\" onclick=\"convertToInteractive('df-7411d40b-096c-4392-961e-dd843da3cab8')\"\n",
              "            title=\"Convert this dataframe to an interactive table.\"\n",
              "            style=\"display:none;\">\n",
              "\n",
              "  <svg xmlns=\"http://www.w3.org/2000/svg\" height=\"24px\" viewBox=\"0 -960 960 960\">\n",
              "    <path d=\"M120-120v-720h720v720H120Zm60-500h600v-160H180v160Zm220 220h160v-160H400v160Zm0 220h160v-160H400v160ZM180-400h160v-160H180v160Zm440 0h160v-160H620v160ZM180-180h160v-160H180v160Zm440 0h160v-160H620v160Z\"/>\n",
              "  </svg>\n",
              "    </button>\n",
              "\n",
              "  <style>\n",
              "    .colab-df-container {\n",
              "      display:flex;\n",
              "      gap: 12px;\n",
              "    }\n",
              "\n",
              "    .colab-df-convert {\n",
              "      background-color: #E8F0FE;\n",
              "      border: none;\n",
              "      border-radius: 50%;\n",
              "      cursor: pointer;\n",
              "      display: none;\n",
              "      fill: #1967D2;\n",
              "      height: 32px;\n",
              "      padding: 0 0 0 0;\n",
              "      width: 32px;\n",
              "    }\n",
              "\n",
              "    .colab-df-convert:hover {\n",
              "      background-color: #E2EBFA;\n",
              "      box-shadow: 0px 1px 2px rgba(60, 64, 67, 0.3), 0px 1px 3px 1px rgba(60, 64, 67, 0.15);\n",
              "      fill: #174EA6;\n",
              "    }\n",
              "\n",
              "    .colab-df-buttons div {\n",
              "      margin-bottom: 4px;\n",
              "    }\n",
              "\n",
              "    [theme=dark] .colab-df-convert {\n",
              "      background-color: #3B4455;\n",
              "      fill: #D2E3FC;\n",
              "    }\n",
              "\n",
              "    [theme=dark] .colab-df-convert:hover {\n",
              "      background-color: #434B5C;\n",
              "      box-shadow: 0px 1px 3px 1px rgba(0, 0, 0, 0.15);\n",
              "      filter: drop-shadow(0px 1px 2px rgba(0, 0, 0, 0.3));\n",
              "      fill: #FFFFFF;\n",
              "    }\n",
              "  </style>\n",
              "\n",
              "    <script>\n",
              "      const buttonEl =\n",
              "        document.querySelector('#df-7411d40b-096c-4392-961e-dd843da3cab8 button.colab-df-convert');\n",
              "      buttonEl.style.display =\n",
              "        google.colab.kernel.accessAllowed ? 'block' : 'none';\n",
              "\n",
              "      async function convertToInteractive(key) {\n",
              "        const element = document.querySelector('#df-7411d40b-096c-4392-961e-dd843da3cab8');\n",
              "        const dataTable =\n",
              "          await google.colab.kernel.invokeFunction('convertToInteractive',\n",
              "                                                    [key], {});\n",
              "        if (!dataTable) return;\n",
              "\n",
              "        const docLinkHtml = 'Like what you see? Visit the ' +\n",
              "          '<a target=\"_blank\" href=https://colab.research.google.com/notebooks/data_table.ipynb>data table notebook</a>'\n",
              "          + ' to learn more about interactive tables.';\n",
              "        element.innerHTML = '';\n",
              "        dataTable['output_type'] = 'display_data';\n",
              "        await google.colab.output.renderOutput(dataTable, element);\n",
              "        const docLink = document.createElement('div');\n",
              "        docLink.innerHTML = docLinkHtml;\n",
              "        element.appendChild(docLink);\n",
              "      }\n",
              "    </script>\n",
              "  </div>\n",
              "\n",
              "\n",
              "<div id=\"df-c5abebe8-8e26-40ac-9b67-56952c85bcfe\">\n",
              "  <button class=\"colab-df-quickchart\" onclick=\"quickchart('df-c5abebe8-8e26-40ac-9b67-56952c85bcfe')\"\n",
              "            title=\"Suggest charts\"\n",
              "            style=\"display:none;\">\n",
              "\n",
              "<svg xmlns=\"http://www.w3.org/2000/svg\" height=\"24px\"viewBox=\"0 0 24 24\"\n",
              "     width=\"24px\">\n",
              "    <g>\n",
              "        <path d=\"M19 3H5c-1.1 0-2 .9-2 2v14c0 1.1.9 2 2 2h14c1.1 0 2-.9 2-2V5c0-1.1-.9-2-2-2zM9 17H7v-7h2v7zm4 0h-2V7h2v10zm4 0h-2v-4h2v4z\"/>\n",
              "    </g>\n",
              "</svg>\n",
              "  </button>\n",
              "\n",
              "<style>\n",
              "  .colab-df-quickchart {\n",
              "      --bg-color: #E8F0FE;\n",
              "      --fill-color: #1967D2;\n",
              "      --hover-bg-color: #E2EBFA;\n",
              "      --hover-fill-color: #174EA6;\n",
              "      --disabled-fill-color: #AAA;\n",
              "      --disabled-bg-color: #DDD;\n",
              "  }\n",
              "\n",
              "  [theme=dark] .colab-df-quickchart {\n",
              "      --bg-color: #3B4455;\n",
              "      --fill-color: #D2E3FC;\n",
              "      --hover-bg-color: #434B5C;\n",
              "      --hover-fill-color: #FFFFFF;\n",
              "      --disabled-bg-color: #3B4455;\n",
              "      --disabled-fill-color: #666;\n",
              "  }\n",
              "\n",
              "  .colab-df-quickchart {\n",
              "    background-color: var(--bg-color);\n",
              "    border: none;\n",
              "    border-radius: 50%;\n",
              "    cursor: pointer;\n",
              "    display: none;\n",
              "    fill: var(--fill-color);\n",
              "    height: 32px;\n",
              "    padding: 0;\n",
              "    width: 32px;\n",
              "  }\n",
              "\n",
              "  .colab-df-quickchart:hover {\n",
              "    background-color: var(--hover-bg-color);\n",
              "    box-shadow: 0 1px 2px rgba(60, 64, 67, 0.3), 0 1px 3px 1px rgba(60, 64, 67, 0.15);\n",
              "    fill: var(--button-hover-fill-color);\n",
              "  }\n",
              "\n",
              "  .colab-df-quickchart-complete:disabled,\n",
              "  .colab-df-quickchart-complete:disabled:hover {\n",
              "    background-color: var(--disabled-bg-color);\n",
              "    fill: var(--disabled-fill-color);\n",
              "    box-shadow: none;\n",
              "  }\n",
              "\n",
              "  .colab-df-spinner {\n",
              "    border: 2px solid var(--fill-color);\n",
              "    border-color: transparent;\n",
              "    border-bottom-color: var(--fill-color);\n",
              "    animation:\n",
              "      spin 1s steps(1) infinite;\n",
              "  }\n",
              "\n",
              "  @keyframes spin {\n",
              "    0% {\n",
              "      border-color: transparent;\n",
              "      border-bottom-color: var(--fill-color);\n",
              "      border-left-color: var(--fill-color);\n",
              "    }\n",
              "    20% {\n",
              "      border-color: transparent;\n",
              "      border-left-color: var(--fill-color);\n",
              "      border-top-color: var(--fill-color);\n",
              "    }\n",
              "    30% {\n",
              "      border-color: transparent;\n",
              "      border-left-color: var(--fill-color);\n",
              "      border-top-color: var(--fill-color);\n",
              "      border-right-color: var(--fill-color);\n",
              "    }\n",
              "    40% {\n",
              "      border-color: transparent;\n",
              "      border-right-color: var(--fill-color);\n",
              "      border-top-color: var(--fill-color);\n",
              "    }\n",
              "    60% {\n",
              "      border-color: transparent;\n",
              "      border-right-color: var(--fill-color);\n",
              "    }\n",
              "    80% {\n",
              "      border-color: transparent;\n",
              "      border-right-color: var(--fill-color);\n",
              "      border-bottom-color: var(--fill-color);\n",
              "    }\n",
              "    90% {\n",
              "      border-color: transparent;\n",
              "      border-bottom-color: var(--fill-color);\n",
              "    }\n",
              "  }\n",
              "</style>\n",
              "\n",
              "  <script>\n",
              "    async function quickchart(key) {\n",
              "      const quickchartButtonEl =\n",
              "        document.querySelector('#' + key + ' button');\n",
              "      quickchartButtonEl.disabled = true;  // To prevent multiple clicks.\n",
              "      quickchartButtonEl.classList.add('colab-df-spinner');\n",
              "      try {\n",
              "        const charts = await google.colab.kernel.invokeFunction(\n",
              "            'suggestCharts', [key], {});\n",
              "      } catch (error) {\n",
              "        console.error('Error during call to suggestCharts:', error);\n",
              "      }\n",
              "      quickchartButtonEl.classList.remove('colab-df-spinner');\n",
              "      quickchartButtonEl.classList.add('colab-df-quickchart-complete');\n",
              "    }\n",
              "    (() => {\n",
              "      let quickchartButtonEl =\n",
              "        document.querySelector('#df-c5abebe8-8e26-40ac-9b67-56952c85bcfe button');\n",
              "      quickchartButtonEl.style.display =\n",
              "        google.colab.kernel.accessAllowed ? 'block' : 'none';\n",
              "    })();\n",
              "  </script>\n",
              "</div>\n",
              "\n",
              "  <div id=\"id_bf344c49-64b7-4446-84d0-892d6b131fcd\">\n",
              "    <style>\n",
              "      .colab-df-generate {\n",
              "        background-color: #E8F0FE;\n",
              "        border: none;\n",
              "        border-radius: 50%;\n",
              "        cursor: pointer;\n",
              "        display: none;\n",
              "        fill: #1967D2;\n",
              "        height: 32px;\n",
              "        padding: 0 0 0 0;\n",
              "        width: 32px;\n",
              "      }\n",
              "\n",
              "      .colab-df-generate:hover {\n",
              "        background-color: #E2EBFA;\n",
              "        box-shadow: 0px 1px 2px rgba(60, 64, 67, 0.3), 0px 1px 3px 1px rgba(60, 64, 67, 0.15);\n",
              "        fill: #174EA6;\n",
              "      }\n",
              "\n",
              "      [theme=dark] .colab-df-generate {\n",
              "        background-color: #3B4455;\n",
              "        fill: #D2E3FC;\n",
              "      }\n",
              "\n",
              "      [theme=dark] .colab-df-generate:hover {\n",
              "        background-color: #434B5C;\n",
              "        box-shadow: 0px 1px 3px 1px rgba(0, 0, 0, 0.15);\n",
              "        filter: drop-shadow(0px 1px 2px rgba(0, 0, 0, 0.3));\n",
              "        fill: #FFFFFF;\n",
              "      }\n",
              "    </style>\n",
              "    <button class=\"colab-df-generate\" onclick=\"generateWithVariable('pack_size_summary')\"\n",
              "            title=\"Generate code using this dataframe.\"\n",
              "            style=\"display:none;\">\n",
              "\n",
              "  <svg xmlns=\"http://www.w3.org/2000/svg\" height=\"24px\"viewBox=\"0 0 24 24\"\n",
              "       width=\"24px\">\n",
              "    <path d=\"M7,19H8.4L18.45,9,17,7.55,7,17.6ZM5,21V16.75L18.45,3.32a2,2,0,0,1,2.83,0l1.4,1.43a1.91,1.91,0,0,1,.58,1.4,1.91,1.91,0,0,1-.58,1.4L9.25,21ZM18.45,9,17,7.55Zm-12,3A5.31,5.31,0,0,0,4.9,8.1,5.31,5.31,0,0,0,1,6.5,5.31,5.31,0,0,0,4.9,4.9,5.31,5.31,0,0,0,6.5,1,5.31,5.31,0,0,0,8.1,4.9,5.31,5.31,0,0,0,12,6.5,5.46,5.46,0,0,0,6.5,12Z\"/>\n",
              "  </svg>\n",
              "    </button>\n",
              "    <script>\n",
              "      (() => {\n",
              "      const buttonEl =\n",
              "        document.querySelector('#id_bf344c49-64b7-4446-84d0-892d6b131fcd button.colab-df-generate');\n",
              "      buttonEl.style.display =\n",
              "        google.colab.kernel.accessAllowed ? 'block' : 'none';\n",
              "\n",
              "      buttonEl.onclick = () => {\n",
              "        google.colab.notebook.generateWithVariable('pack_size_summary');\n",
              "      }\n",
              "      })();\n",
              "    </script>\n",
              "  </div>\n",
              "\n",
              "    </div>\n",
              "  </div>\n"
            ],
            "application/vnd.google.colaboratory.intrinsic+json": {
              "type": "dataframe",
              "variable_name": "pack_size_summary",
              "summary": "{\n  \"name\": \"pack_size_summary\",\n  \"rows\": 21,\n  \"fields\": [\n    {\n      \"column\": \"LIFESTAGE\",\n      \"properties\": {\n        \"dtype\": \"category\",\n        \"num_unique_values\": 7,\n        \"samples\": [\n          \"MIDAGE SINGLES/COUPLES\",\n          \"NEW FAMILIES\",\n          \"YOUNG FAMILIES\"\n        ],\n        \"semantic_type\": \"\",\n        \"description\": \"\"\n      }\n    },\n    {\n      \"column\": \"PREMIUM_CUSTOMER\",\n      \"properties\": {\n        \"dtype\": \"category\",\n        \"num_unique_values\": 3,\n        \"samples\": [\n          \"Budget\",\n          \"Mainstream\",\n          \"Premium\"\n        ],\n        \"semantic_type\": \"\",\n        \"description\": \"\"\n      }\n    },\n    {\n      \"column\": \"PACK_SIZE\",\n      \"properties\": {\n        \"dtype\": \"number\",\n        \"std\": 1.2211330667587572,\n        \"min\": 173.37898052023795,\n        \"max\": 178.34424887433482,\n        \"num_unique_values\": 21,\n        \"samples\": [\n          174.18269025794075,\n          174.6590318991098,\n          175.45971964195238\n        ],\n        \"semantic_type\": \"\",\n        \"description\": \"\"\n      }\n    }\n  ]\n}"
            }
          },
          "metadata": {},
          "execution_count": 71
        }
      ]
    },
    {
      "cell_type": "code",
      "source": [
        "plt.figure(figsize=(12, 6))\n",
        "sns.boxplot(x=\"LIFESTAGE\", y=\"PACK_SIZE\", hue=\"PREMIUM_CUSTOMER\", data=merged_data)\n",
        "plt.xticks(rotation=45)\n",
        "plt.title(\"Pack Size Distribution by Customer Segment\")\n",
        "plt.show()"
      ],
      "metadata": {
        "colab": {
          "base_uri": "https://localhost:8080/",
          "height": 693
        },
        "id": "CbPuyCtnCnfx",
        "outputId": "373fce3f-03d6-48ab-e6ef-330e2d0b27d7"
      },
      "execution_count": 72,
      "outputs": [
        {
          "output_type": "display_data",
          "data": {
            "text/plain": [
              "<Figure size 1200x600 with 1 Axes>"
            ],
            "image/png": "[encoded data removed]"
          },
          "metadata": {}
        }
      ]
    },
    {
      "cell_type": "markdown",
      "source": [
        "In each segment, the average pack size is approximately the same (around 150g).\n",
        "The \"Mainstream – YOUNG SINGLES/COUPLES\" segment (green) does not show a noticeable tendency to buy larger packs compared to other segments.\n",
        "Pack sizes are distributed similarly across all segments. Let's perform a t-test."
      ],
      "metadata": {
        "id": "fRP6yhIMDFYN"
      }
    },
    {
      "cell_type": "code",
      "source": [
        "# T-test - comparing the pack size in the target segment with the rest.\n",
        "other_segments = merged_data[\n",
        "    ~((merged_data['LIFESTAGE'] == 'YOUNG SINGLES/COUPLES') &\n",
        "      (merged_data['PREMIUM_CUSTOMER'] == 'Mainstream'))\n",
        "]\n",
        "\n",
        "t_stat, p_val = stats.ttest_ind(target_segment['PACK_SIZE'], other_segments['PACK_SIZE'], nan_policy='omit')\n",
        "\n",
        "print(f\"T-test p-value: {p_val}\")\n",
        "if p_val < 0.05:\n",
        "    print(\"The target segment differs significantly in pack size.\")\n",
        "else:\n",
        "    print(\"There is no significant difference in pack size between segments.\")"
      ],
      "metadata": {
        "colab": {
          "base_uri": "https://localhost:8080/"
        },
        "id": "LUcEFUAKCnii",
        "outputId": "1dbd9848-908d-4d03-e048-ab33148128b4"
      },
      "execution_count": 75,
      "outputs": [
        {
          "output_type": "stream",
          "name": "stdout",
          "text": [
            "T-test p-value: 1.3077391598910532e-11\n",
            "The target segment differs significantly in pack size.\n"
          ]
        }
      ]
    },
    {
      "cell_type": "markdown",
      "source": [
        "Such a small p-value (≈1.31e-11) indicates that the difference in pack sizes between the target segment \"Mainstream - Young Singles/Couples\" and the comparison segments is statistically significant.\n",
        "\n",
        "**Conclusion:**\n",
        "\n",
        "The target segment indeed prefers a different pack size compared to other groups."
      ],
      "metadata": {
        "id": "HcPVOQJYD2LO"
      }
    },
    {
      "cell_type": "code",
      "source": [],
      "metadata": {
        "id": "iJ2HGG0RCnoA"
      },
      "execution_count": null,
      "outputs": []
    }
  ]
}